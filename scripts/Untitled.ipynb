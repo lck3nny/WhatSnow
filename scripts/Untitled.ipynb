{
 "cells": [
  {
   "cell_type": "code",
   "execution_count": 1,
   "id": "a929f726",
   "metadata": {},
   "outputs": [],
   "source": [
    "# https://docs.bonsai.io/article/102-python\n",
    "import io, sys, os, base64, re, logging\n",
    "import json\n",
    "import datetime\n",
    "\n",
    "from elasticsearch import Elasticsearch\n",
    "from elasticsearch.client import IndicesClient\n",
    "from elasticsearch.helpers import streaming_bulk\n",
    "\n",
    "import firebase_admin\n",
    "from firebase_admin import credentials, firestore"
   ]
  },
  {
   "cell_type": "code",
   "execution_count": 3,
   "id": "f9f9cae0",
   "metadata": {},
   "outputs": [],
   "source": [
    "f = open(sys.path[0] + '/../application/config/bonsai_config.json')\n",
    "es_config = json.load(f)\n",
    "f.close()"
   ]
  },
  {
   "cell_type": "code",
   "execution_count": 5,
   "id": "c9c6919d",
   "metadata": {},
   "outputs": [],
   "source": [
    "es_endpoint = es_config['url']\n",
    "es_user = es_config['key']\n",
    "es_password = es_config['secret']"
   ]
  },
  {
   "cell_type": "code",
   "execution_count": 6,
   "id": "df27a7b1",
   "metadata": {},
   "outputs": [],
   "source": [
    "es_client = Elasticsearch([es_endpoint], basic_auth=(es_user, es_password))"
   ]
  },
  {
   "cell_type": "code",
   "execution_count": 8,
   "id": "7d177db3",
   "metadata": {},
   "outputs": [
    {
     "data": {
      "text/plain": [
       "{'name': 'ip-172-31-83-46',\n",
       " 'cluster_name': 'elasticsearch',\n",
       " 'cluster_uuid': 'MBYiipO-Sv2nxNb4IouLEg',\n",
       " 'version': {'number': '7.10.2',\n",
       "  'build_flavor': 'oss',\n",
       "  'build_type': 'tar',\n",
       "  'build_hash': '747e1cc71def077253878a59143c1f785afa92b9',\n",
       "  'build_date': '2021-01-13T00:42:12.435326Z',\n",
       "  'build_snapshot': False,\n",
       "  'lucene_version': '8.7.0',\n",
       "  'minimum_wire_compatibility_version': '6.8.0',\n",
       "  'minimum_index_compatibility_version': '6.0.0-beta1'},\n",
       " 'tagline': 'You Know, for Search'}"
      ]
     },
     "execution_count": 8,
     "metadata": {},
     "output_type": "execute_result"
    }
   ],
   "source": [
    "es_client.info()"
   ]
  },
  {
   "cell_type": "code",
   "execution_count": null,
   "id": "a91c978d",
   "metadata": {},
   "outputs": [],
   "source": []
  }
 ],
 "metadata": {
  "kernelspec": {
   "display_name": "Python 3 (ipykernel)",
   "language": "python",
   "name": "python3"
  },
  "language_info": {
   "codemirror_mode": {
    "name": "ipython",
    "version": 3
   },
   "file_extension": ".py",
   "mimetype": "text/x-python",
   "name": "python",
   "nbconvert_exporter": "python",
   "pygments_lexer": "ipython3",
   "version": "3.11.2"
  }
 },
 "nbformat": 4,
 "nbformat_minor": 5
}
