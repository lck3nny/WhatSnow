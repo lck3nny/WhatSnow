{
 "cells": [
  {
   "cell_type": "markdown",
   "id": "ab51f088",
   "metadata": {},
   "source": [
    "# Imports\n",
    "---\n",
    "Import new skis / snowboards to an SQL database"
   ]
  },
  {
   "cell_type": "code",
   "execution_count": 1,
   "id": "22d5f32d",
   "metadata": {},
   "outputs": [
    {
     "ename": "ModuleNotFoundError",
     "evalue": "No module named 'pymysql'",
     "output_type": "error",
     "traceback": [
      "\u001b[0;31m---------------------------------------------------------------------------\u001b[0m",
      "\u001b[0;31mModuleNotFoundError\u001b[0m                       Traceback (most recent call last)",
      "Cell \u001b[0;32mIn[1], line 2\u001b[0m\n\u001b[1;32m      1\u001b[0m \u001b[38;5;28;01mimport\u001b[39;00m \u001b[38;5;21;01mjson\u001b[39;00m\n\u001b[0;32m----> 2\u001b[0m \u001b[38;5;28;01mimport\u001b[39;00m \u001b[38;5;21;01mpymysql\u001b[39;00m\n\u001b[1;32m      3\u001b[0m \u001b[38;5;28;01mimport\u001b[39;00m \u001b[38;5;21;01mre\u001b[39;00m\n",
      "\u001b[0;31mModuleNotFoundError\u001b[0m: No module named 'pymysql'"
     ]
    }
   ],
   "source": [
    "import json\n",
    "import pymysql\n",
    "import re"
   ]
  },
  {
   "cell_type": "code",
   "execution_count": 9,
   "id": "7ed7cfa2",
   "metadata": {},
   "outputs": [],
   "source": [
    "# Database Setup\n",
    "# --------------------------------------------------\n",
    "def setupdb():\n",
    "    f = open('../app/config/localdb_config.json')\n",
    "    dbconfig = json.loads(f.read())\n",
    "    db = pymysql.connect(host=dbconfig['localhost'], user=dbconfig['username'], password=dbconfig['password'], database=dbconfig['database'])\n",
    "    f.close()\n",
    "    return db"
   ]
  },
  {
   "cell_type": "code",
   "execution_count": 10,
   "id": "d353b387",
   "metadata": {},
   "outputs": [],
   "source": [
    "db = setupdb()\n",
    "cursor = db.cursor()"
   ]
  },
  {
   "cell_type": "code",
   "execution_count": 76,
   "id": "34793ac2",
   "metadata": {},
   "outputs": [],
   "source": [
    "params = {\n",
    "    'size': {'aliases': ['board size', 'size', 'length'], 'found': False, 'keep': True, 'values': []},\n",
    "    'binding size': {'aliases': ['binding sizes', 'binding size'], 'found': False, 'keep': False, 'values': []},\n",
    "    'running length': {'aliases': ['running length'], 'found': False, 'keep': True, 'values': []},\n",
    "    'nose width': {'aliases': ['nose width', 'tip width'], 'found': False, 'keep': True, 'values': []},\n",
    "    'waist width': {'aliases': ['waist width'], 'found': False, 'keep': True, 'values': []},\n",
    "    'tail width': {'aliases': ['tail width'], 'found': False, 'keep': True, 'values': []},\n",
    "    'sidecut depth': {'aliases': ['sidecut depth'], 'found': False, 'keep': False, 'values': []},\n",
    "    'sidecut': {'aliases': ['sidecut radius', 'turning radius', 'radius', 'sidecut'], 'found': False, 'keep': True, 'values': []},\n",
    "    'setback': {'aliases': ['stance setback', 'stance location', 'setback'], 'found': False, 'keep': True, 'values': []},\n",
    "    'effective edge': {'aliases': ['effective edge'], 'found': False, 'keep': True, 'values': []},\n",
    "    'weight range': {'aliases': ['weight range'], 'found': False, 'keep': False, 'values': []},\n",
    "    'reference stance': {'aliases': ['stance width', 'reference stance'], 'found': False, 'keep': True, 'values': []}\n",
    "}"
   ]
  },
  {
   "cell_type": "code",
   "execution_count": 77,
   "id": "b5f27c55",
   "metadata": {},
   "outputs": [],
   "source": [
    "values = {\n",
    "    'size': '',\n",
    "    'nose width': '',\n",
    "    'waist width': '',\n",
    "    'tail width': '',\n",
    "    'sidecut': '',\n",
    "    'setback': '',\n",
    "    'effective edge': ''\n",
    "}"
   ]
  },
  {
   "cell_type": "code",
   "execution_count": 82,
   "id": "2f1910ad",
   "metadata": {},
   "outputs": [],
   "source": [
    "# Extraction of data \n",
    "# from string format to a tabular structure\n",
    "# --------------------------------------------------\n",
    "def extract_data(table):\n",
    "    # Remove units from headings\n",
    "    while re.search(r'\\(([a-zA-Z]+)\\)', table) != None:\n",
    "        match = re.search(r'\\(([a-zA-Z]+)\\)', table)\n",
    "        substr = table[match.start():match.end()]\n",
    "        table = table.replace(substr, '')\n",
    "    '''    \n",
    "    while ')' in table:\n",
    "        table = table[:table.find('(')] + table[table.find(')') + 1:]\n",
    "    '''    \n",
    "        \n",
    "    breakpoints = []\n",
    "    \n",
    "    # Find location of headings in table\n",
    "    for key, param in params.items():\n",
    "        # Check each param alias\n",
    "        print(param)\n",
    "        for alias in param['aliases']:\n",
    "            print(f\"Looking for {alias}\")\n",
    "            if alias in table:\n",
    "                breakpoints.append(table.find(alias))\n",
    "                break\n",
    "        \n",
    "        \n",
    "    # Extract table data into rows\n",
    "    rows = []\n",
    "    breakpoints.sort()\n",
    "    for i, b in enumerate(breakpoints):\n",
    "        if i > 0:\n",
    "            rows.append(table[breakpoints[i-1]:b])\n",
    "            print(f\"Row: {table[breakpoints[i-1]:b]}\")\n",
    "        if i == len(breakpoints) -1:\n",
    "            rows.append(table[b:])\n",
    "    \n",
    "    \n",
    "    # Remove lables from rows\n",
    "    for row in rows:\n",
    "        for key, param in params.items():\n",
    "            for alias in param['aliases']:\n",
    "                if alias in row and not param['found']:\n",
    "                    vals = row.replace(alias, '')\n",
    "                    vals = vals.strip()\n",
    "                    vals = vals.replace('\\u0020\\u002f\\u0020', '/')\n",
    "                    vals = vals.replace('\\u0020\\u200b\\u002f\\u0020', '/')\n",
    "                    vals = vals.replace('\\u0020\\u200b\\u200b\\u002f\\u0020', '/')\n",
    "                    vals = vals.split() \n",
    "                    param['values'] = vals\n",
    "                    param['found'] = True\n",
    "                    break\n",
    "\n",
    "    '''\n",
    "    # Format table rows as lists\n",
    "    for val in values:\n",
    "        try:\n",
    "            # \\u0020\\u200b\\u002f\\u0020\n",
    "            # \\u0020\\u002f\\u0020\n",
    "            values[val] = values[val].strip()\n",
    "            values[val] = values[val].replace('\\u0020\\u002f\\u0020', '/')\n",
    "            values[val] = values[val].replace('\\u0020\\u200b\\u002f\\u0020', '/')\n",
    "            values[val] = values[val].replace('\\u0020\\u200b\\u200b\\u002f\\u0020', '/')\n",
    "            values[val] = values[val].split() \n",
    "            \n",
    "        except Exception as e:\n",
    "            x = e\n",
    "            '''\n",
    "    \n",
    "    # Truncate long rows to the correct size\n",
    "    num_sizes = len(params['size']['values'])\n",
    "    for key, param in params.items():\n",
    "        # Sidecuts can have more than one radius\n",
    "        if param != \"sidecut\":\n",
    "            param['values'] = param['values'][:num_sizes]\n",
    "\n",
    "        # Remove rogue characters from row values\n",
    "        if len(param['values']) > 0 and type(param['values'][0]) == str:\n",
    "            for x, v in enumerate(param['values']):\n",
    "                param['values'][x] = param['values'][x].replace('\\u200b', '')\n",
    "        \n",
    "        \n",
    "        # Fill empty or missing data with null values\n",
    "        for x in range(num_sizes - len(param['values'])):\n",
    "            \n",
    "            param['values'].append(0)\n",
    "            \n",
    "    \n",
    "        \n",
    "        \n",
    "    return params"
   ]
  },
  {
   "cell_type": "code",
   "execution_count": 14,
   "id": "8d83ef3d",
   "metadata": {},
   "outputs": [],
   "source": [
    "# Save skiboard in MySQL DB\n",
    "# --------------------------------------------------\n",
    "def save_skiboard(skiboard):\n",
    "    try:\n",
    "        sql = f\"\"\"INSERT INTO skiboards (\n",
    "            url,\n",
    "            brand,\n",
    "            model,\n",
    "            year,\n",
    "            name,\n",
    "            slug,\n",
    "            category,\n",
    "            family,\n",
    "            description,\n",
    "            stiffness,\n",
    "            shape,\n",
    "            flex_profile,\n",
    "            camber_profile,\n",
    "            camber_details,\n",
    "            core,\n",
    "            core_profiling,\n",
    "            fibreglass,\n",
    "            laminates,\n",
    "            resin,\n",
    "            base,\n",
    "            edges,\n",
    "            edge_tech,\n",
    "            topsheet,\n",
    "            sidewall,\n",
    "            inserts,\n",
    "            asym,\n",
    "            weight,\n",
    "            womens,\n",
    "            youth\n",
    "        ) VALUES (\n",
    "            '{skiboard['url']}',\n",
    "            '{skiboard['brand']}',\n",
    "            '{skiboard['model']}',\n",
    "            '{skiboard['year']}',\n",
    "            '{str(skiboard['brand']).title()} {str(skiboard['model']).title()} {str(skiboard['year'])}',\n",
    "            '{str(skiboard['brand']).lower().replace(' ', '-')}-{str(skiboard['model']).lower().replace(' ', '-')}-{str(skiboard['year'])}',\n",
    "            '{skiboard['category']}',\n",
    "            '{skiboard['family']}',\n",
    "            '{skiboard['description']}',\n",
    "            '{skiboard['stiffness']}',\n",
    "            '{skiboard['shape']}',\n",
    "            '{skiboard['flex_profile']}',\n",
    "            '{skiboard['camber_profile']}',\n",
    "            '{skiboard['camber_details']}',\n",
    "            '{skiboard['core']}',\n",
    "            '{skiboard['core_profiling']}',\n",
    "            '{skiboard['fibreglass']}',\n",
    "            '{skiboard['laminates']}',\n",
    "            '{skiboard['resin']}',\n",
    "            '{skiboard['base']}',\n",
    "            '{skiboard['edges']}',\n",
    "            '{skiboard['edge_tech']}',\n",
    "            '{skiboard['topsheet']}',\n",
    "            '{skiboard['sidewall']}',\n",
    "            '{skiboard['inserts']}',\n",
    "            '{skiboard['asym']}',\n",
    "            '{skiboard['weight']}',\n",
    "            '{skiboard['womens']}',\n",
    "            '{skiboard['youth']}'\n",
    "        )\"\"\"\n",
    "        cursor.execute(sql)\n",
    "        db.commit()\n",
    "    except Exception as e:\n",
    "        print(f\"ERROR:\\n{e}\")"
   ]
  },
  {
   "cell_type": "code",
   "execution_count": 15,
   "id": "2bf2e541",
   "metadata": {},
   "outputs": [],
   "source": [
    "# Save data in MySQL DB\n",
    "# --------------------------------------------------\n",
    "def save_values(skiboard, values):\n",
    "    #print(f\"Importing...\\n{str(skiboard['brand']).capitalize()} {str(skiboard['model']).capitalize()} {str(skiboard['year'])}\\nValues:\\n{values}\")\n",
    "\n",
    "    for x in range(len(values['size'])):\n",
    "        try:\n",
    "            sql = f\"\"\"REPLACE INTO sizes (\n",
    "                skiboard_id,\n",
    "                size,\n",
    "                nose_width,\n",
    "                waist_width,\n",
    "                tail_width,\n",
    "                sidecut,\n",
    "                setback,\n",
    "                effective_edge\n",
    "            ) VALUES (\n",
    "                '{str(skiboard['id'])}',\n",
    "                '{str(values['size'][x])}',\n",
    "                '{float(values['nose width'][x])}',\n",
    "                '{float(values['waist width'][x])}',\n",
    "                '{float(values['tail width'][x])}',\n",
    "                '{str(values['sidecut'][x])}',\n",
    "                '{float(values['setback'][x])}',\n",
    "                '{float(values['effective edge'][x])}'\n",
    "            )\"\"\"\n",
    "\n",
    "            cursor.execute(sql)\n",
    "            db.commit()\n",
    "        except Exception as e:\n",
    "            print(f\"ERROR: size ({values['size'][x]})\\n{e}\\n\")\n",
    "            print(f\"SQL:\\n{sql}\\n\\n\")\n",
    "    \n",
    "    return True"
   ]
  },
  {
   "cell_type": "markdown",
   "id": "8b96c317",
   "metadata": {},
   "source": [
    "# Create New SkiBoard\n",
    "---"
   ]
  },
  {
   "cell_type": "code",
   "execution_count": 528,
   "id": "59c3afbb",
   "metadata": {},
   "outputs": [],
   "source": [
    "id_counter = 180"
   ]
  },
  {
   "cell_type": "code",
   "execution_count": 529,
   "id": "fa28dff0",
   "metadata": {},
   "outputs": [
    {
     "name": "stdout",
     "output_type": "stream",
     "text": [
      "180\n"
     ]
    }
   ],
   "source": [
    "print(id_counter)"
   ]
  },
  {
   "cell_type": "code",
   "execution_count": 543,
   "id": "4d4b2082",
   "metadata": {},
   "outputs": [],
   "source": [
    "skiboard = {\n",
    "    'id': id_counter,\n",
    "    'url': '',\n",
    "    'brand': 'Rome',\n",
    "    'model': 'Mod',\n",
    "    'year': 2020,\n",
    "    'category': 'Snowboard',\n",
    "    'family': '',\n",
    "    'description': \"Send your boring board to The Hague. The Rome Warden Snowboard rips groomers, polices the tree runs, and liberates you from the cruelty of having to pay for the privilege to rely on someone else's beat-up rental junk. Lay down a mean euro, play in a secret pow stash and slash your way down the hill with authori-tah. The Rome Warden Snowboard hates to be confined and loves to get after it day after day thanks to its durable extruded base and bamboo stringer construction.\".replace(\"'\", \"`\"),\n",
    "    'stiffness': 8,\n",
    "    'shape': 'Twin',\n",
    "    'flex_profile': '',\n",
    "    'camber_profile': 'Full Camber',\n",
    "    'camber_details': 'Stay Positive Camber',\n",
    "    'core': \"Pop Core Matrix\".replace(\"'\", \"`\"),\n",
    "    'core_profiling': '',\n",
    "    'fibreglass': 'Biax',\n",
    "    'laminates': 'TurboRod Configuration ~ Glasspack Impact Plates',\n",
    "    'base': 'SinterCarbon Base',\n",
    "    'edges': '',\n",
    "    'edge_tech': '',\n",
    "    'topsheet': '',\n",
    "    'resin': '',\n",
    "    'sidewall': '',\n",
    "    'inserts': '4x2',\n",
    "    'asym': 0,\n",
    "    'weight': 0,\n",
    "    'womens': 0,\n",
    "    'youth': 0\n",
    "}"
   ]
  },
  {
   "cell_type": "code",
   "execution_count": 544,
   "id": "3e1974a3",
   "metadata": {},
   "outputs": [],
   "source": [
    "save_skiboard(skiboard)"
   ]
  },
  {
   "cell_type": "code",
   "execution_count": 545,
   "id": "7f5e4ed2",
   "metadata": {},
   "outputs": [
    {
     "name": "stdout",
     "output_type": "stream",
     "text": [
      "182\n"
     ]
    }
   ],
   "source": [
    "print(skiboard['id'])"
   ]
  },
  {
   "cell_type": "code",
   "execution_count": null,
   "id": "09f7d6d3",
   "metadata": {},
   "outputs": [],
   "source": []
  },
  {
   "cell_type": "markdown",
   "id": "2d313281",
   "metadata": {},
   "source": [
    "# Add Sizes to SkiBoard\n",
    "---"
   ]
  },
  {
   "cell_type": "code",
   "execution_count": 546,
   "id": "e0b6f365",
   "metadata": {},
   "outputs": [],
   "source": [
    "#skiboard['id'] = 181"
   ]
  },
  {
   "cell_type": "code",
   "execution_count": 28,
   "id": "48aec93d",
   "metadata": {},
   "outputs": [
    {
     "name": "stdout",
     "output_type": "stream",
     "text": [
      "Please submit yourski/snowboard size table\n",
      "\n",
      "Board Size\t149\t156\t161 Weight Range\t100-150 lbs. / 45-68kg\t150-200 lbs. / 68-91kg\t180-260 lbs.+ / 82-118kg+ Waist Width\t243mm\t252mm\t255mm Stance Location\t-25\t-25\t-25 Binding Sizes\tMen's S, Women's M\tMen's M/L, Women's L\tMen's L, Women's L Running Length\t1095mm\t1165mm\t1215mm Sidecut Radius\t7.1m\t7.6m\t7.9m Sidecut Depth\t21.1mm\t22.2mm\t23.4mm Stance Width\t530mm\t560mm\t560mm Nose Width\t285.7mm\t297.0mm\t302.3mm Tail Width\t284.7mm\t296.0mm\t301.3mm Effective Edge\t1135mm\t1205mm\t1255mm\n"
     ]
    }
   ],
   "source": [
    "table = input(\"Please submit yourski/snowboard size table\\n\\n\").lower()"
   ]
  },
  {
   "cell_type": "code",
   "execution_count": 83,
   "id": "35a6a7ee",
   "metadata": {},
   "outputs": [
    {
     "name": "stdout",
     "output_type": "stream",
     "text": [
      "{'aliases': ['board size', 'size', 'length'], 'found': False, 'keep': True, 'values': []}\n",
      "Looking for board size\n",
      "{'aliases': ['binding sizes', 'binding size'], 'found': False, 'keep': False, 'values': []}\n",
      "Looking for binding sizes\n",
      "{'aliases': ['running length'], 'found': False, 'keep': True, 'values': []}\n",
      "Looking for running length\n",
      "{'aliases': ['nose width', 'tip width'], 'found': False, 'keep': True, 'values': []}\n",
      "Looking for nose width\n",
      "{'aliases': ['waist width'], 'found': False, 'keep': True, 'values': []}\n",
      "Looking for waist width\n",
      "{'aliases': ['tail width'], 'found': False, 'keep': True, 'values': []}\n",
      "Looking for tail width\n",
      "{'aliases': ['sidecut depth'], 'found': False, 'keep': False, 'values': []}\n",
      "Looking for sidecut depth\n",
      "{'aliases': ['sidecut radius', 'turning radius', 'radius', 'sidecut'], 'found': False, 'keep': True, 'values': []}\n",
      "Looking for sidecut radius\n",
      "{'aliases': ['stance setback', 'stance location', 'setback'], 'found': False, 'keep': True, 'values': []}\n",
      "Looking for stance setback\n",
      "Looking for stance location\n",
      "{'aliases': ['effective edge'], 'found': False, 'keep': True, 'values': []}\n",
      "Looking for effective edge\n",
      "{'aliases': ['weight range'], 'found': False, 'keep': False, 'values': []}\n",
      "Looking for weight range\n",
      "{'aliases': ['stance width', 'reference stance'], 'found': False, 'keep': True, 'values': []}\n",
      "Looking for stance width\n",
      "Row: board size\t149\t156\t161 \n",
      "Row: weight range\t100-150 lbs. / 45-68kg\t150-200 lbs. / 68-91kg\t180-260 lbs.+ / 82-118kg+ \n",
      "Row: waist width\t243mm\t252mm\t255mm \n",
      "Row: stance location\t-25\t-25\t-25 \n",
      "Row: binding sizes\tmen's s, women's m\tmen's m/l, women's l\tmen's l, women's l \n",
      "Row: running length\t1095mm\t1165mm\t1215mm \n",
      "Row: sidecut radius\t7.1m\t7.6m\t7.9m \n",
      "Row: sidecut depth\t21.1mm\t22.2mm\t23.4mm \n",
      "Row: stance width\t530mm\t560mm\t560mm \n",
      "Row: nose width\t285.7mm\t297.0mm\t302.3mm \n",
      "Row: tail width\t284.7mm\t296.0mm\t301.3mm \n"
     ]
    }
   ],
   "source": [
    "values = extract_data(table)"
   ]
  },
  {
   "cell_type": "code",
   "execution_count": 84,
   "id": "25871754",
   "metadata": {},
   "outputs": [
    {
     "name": "stdout",
     "output_type": "stream",
     "text": [
      "size:\n",
      "{'aliases': ['board size', 'size', 'length'], 'found': True, 'keep': True, 'values': ['149', '156', '161']}\n",
      "\n",
      "\n",
      "binding size:\n",
      "{'aliases': ['binding sizes', 'binding size'], 'found': True, 'keep': False, 'values': [\"men's\", 's,', \"women's\"]}\n",
      "\n",
      "\n",
      "running length:\n",
      "{'aliases': ['running length'], 'found': True, 'keep': True, 'values': ['1095mm', '1165mm', '1215mm']}\n",
      "\n",
      "\n",
      "nose width:\n",
      "{'aliases': ['nose width', 'tip width'], 'found': True, 'keep': True, 'values': ['285.7mm', '297.0mm', '302.3mm']}\n",
      "\n",
      "\n",
      "waist width:\n",
      "{'aliases': ['waist width'], 'found': True, 'keep': True, 'values': ['243mm', '252mm', '255mm']}\n",
      "\n",
      "\n",
      "tail width:\n",
      "{'aliases': ['tail width'], 'found': True, 'keep': True, 'values': ['284.7mm', '296.0mm', '301.3mm']}\n",
      "\n",
      "\n",
      "sidecut depth:\n",
      "{'aliases': ['sidecut depth'], 'found': True, 'keep': False, 'values': ['21.1mm', '22.2mm', '23.4mm']}\n",
      "\n",
      "\n",
      "sidecut:\n",
      "{'aliases': ['sidecut radius', 'turning radius', 'radius', 'sidecut'], 'found': True, 'keep': True, 'values': ['7.1m', '7.6m', '7.9m']}\n",
      "\n",
      "\n",
      "setback:\n",
      "{'aliases': ['stance setback', 'stance location', 'setback'], 'found': True, 'keep': True, 'values': ['-25', '-25', '-25']}\n",
      "\n",
      "\n",
      "effective edge:\n",
      "{'aliases': ['effective edge'], 'found': True, 'keep': True, 'values': ['1135mm', '1205mm', '1255mm']}\n",
      "\n",
      "\n",
      "weight range:\n",
      "{'aliases': ['weight range'], 'found': True, 'keep': False, 'values': ['100-150', 'lbs./45-68kg', '150-200']}\n",
      "\n",
      "\n",
      "reference stance:\n",
      "{'aliases': ['stance width', 'reference stance'], 'found': True, 'keep': True, 'values': ['530mm', '560mm', '560mm']}\n",
      "\n",
      "\n"
     ]
    }
   ],
   "source": [
    "for row in values:\n",
    "    print(f\"{row}:\\n{values[row]}\\n\\n\")"
   ]
  },
  {
   "cell_type": "code",
   "execution_count": 550,
   "id": "c4951caa",
   "metadata": {},
   "outputs": [
    {
     "name": "stdout",
     "output_type": "stream",
     "text": [
      "\n",
      "SUCCESS!\n"
     ]
    }
   ],
   "source": [
    "success = save_values(skiboard, values)\n",
    "if success:\n",
    "    print(\"\\nSUCCESS!\")\n",
    "    id_counter += 1"
   ]
  },
  {
   "cell_type": "code",
   "execution_count": null,
   "id": "e215af83",
   "metadata": {},
   "outputs": [],
   "source": []
  },
  {
   "cell_type": "code",
   "execution_count": null,
   "id": "2b3b4b65",
   "metadata": {},
   "outputs": [],
   "source": []
  },
  {
   "cell_type": "code",
   "execution_count": null,
   "id": "c09bd3e0",
   "metadata": {},
   "outputs": [],
   "source": []
  }
 ],
 "metadata": {
  "kernelspec": {
   "display_name": "Python 3 (ipykernel)",
   "language": "python",
   "name": "python3"
  },
  "language_info": {
   "codemirror_mode": {
    "name": "ipython",
    "version": 3
   },
   "file_extension": ".py",
   "mimetype": "text/x-python",
   "name": "python",
   "nbconvert_exporter": "python",
   "pygments_lexer": "ipython3",
   "version": "3.11.2"
  }
 },
 "nbformat": 4,
 "nbformat_minor": 5
}
