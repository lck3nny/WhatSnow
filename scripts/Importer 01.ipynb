{
 "cells": [
  {
   "cell_type": "markdown",
   "id": "ab51f088",
   "metadata": {},
   "source": [
    "# Imports\n",
    "---\n",
    "Import new skis / snowboards to an SQL database"
   ]
  },
  {
   "cell_type": "code",
   "execution_count": 520,
   "id": "22d5f32d",
   "metadata": {},
   "outputs": [],
   "source": [
    "import json\n",
    "import pymysql\n",
    "import re"
   ]
  },
  {
   "cell_type": "code",
   "execution_count": 521,
   "id": "7ed7cfa2",
   "metadata": {},
   "outputs": [],
   "source": [
    "# Database Setup\n",
    "# --------------------------------------------------\n",
    "def setupdb():\n",
    "    f = open('../app/config/localdb_config.json')\n",
    "    dbconfig = json.loads(f.read())\n",
    "    db = pymysql.connect(host=dbconfig['localhost'], user=dbconfig['username'], password=dbconfig['password'], database=dbconfig['database'])\n",
    "    f.close()\n",
    "    return db"
   ]
  },
  {
   "cell_type": "code",
   "execution_count": 522,
   "id": "d353b387",
   "metadata": {},
   "outputs": [],
   "source": [
    "db = setupdb()\n",
    "cursor = db.cursor()"
   ]
  },
  {
   "cell_type": "code",
   "execution_count": 523,
   "id": "34793ac2",
   "metadata": {},
   "outputs": [],
   "source": [
    "params = {\n",
    "    'size': ['size', 'length'],\n",
    "    'nose width': ['nose width', 'tip width'],\n",
    "    'waist width': ['waist width'],\n",
    "    'tail width': ['tail width'],\n",
    "    'sidecut': ['sidecut radius', 'turning radius', 'radius', 'sidecut'],\n",
    "    'setback': ['stance setback', 'setback'],\n",
    "    'effective edge': ['effective edge', 'running length']\n",
    "}"
   ]
  },
  {
   "cell_type": "code",
   "execution_count": 524,
   "id": "b5f27c55",
   "metadata": {},
   "outputs": [],
   "source": [
    "values = {\n",
    "    'size': '',\n",
    "    'nose width': '',\n",
    "    'waist width': '',\n",
    "    'tail width': '',\n",
    "    'sidecut': '',\n",
    "    'setback': '',\n",
    "    'effective edge': ''\n",
    "}"
   ]
  },
  {
   "cell_type": "code",
   "execution_count": 525,
   "id": "2f1910ad",
   "metadata": {},
   "outputs": [],
   "source": [
    "# Extraction of data \n",
    "# from string format to a tabular structure\n",
    "# --------------------------------------------------\n",
    "def extract_data(table):\n",
    "    # Remove units from headings\n",
    "    while re.search(r'\\(([a-zA-Z]+)\\)', table) != None:\n",
    "        match = re.search(r'\\(([a-zA-Z]+)\\)', table)\n",
    "        substr = table[match.start():match.end()]\n",
    "        table = table.replace(substr, '')\n",
    "    '''    \n",
    "    while ')' in table:\n",
    "        table = table[:table.find('(')] + table[table.find(')') + 1:]\n",
    "    '''    \n",
    "        \n",
    "    breakpoints = []\n",
    "    \n",
    "    # Find location of headings in table\n",
    "    for i in params:\n",
    "        # Check each param alias\n",
    "        for j in params[i]:\n",
    "            if j in table:\n",
    "                breakpoints.append(table.find(j))\n",
    "                break\n",
    "        \n",
    "        values[i] = []\n",
    "        \n",
    "    # Extract table data into rows\n",
    "    rows = []\n",
    "    breakpoints.sort()\n",
    "    for i, b in enumerate(breakpoints):\n",
    "        if i > 0:\n",
    "            rows.append(table[breakpoints[i-1]:b])\n",
    "            print(f\"Row: {table[breakpoints[i-1]:b]}\")\n",
    "        if i == len(breakpoints) -1:\n",
    "            rows.append(table[b:])\n",
    "    \n",
    "    \n",
    "    # Remove lables from rows\n",
    "    for row in rows:\n",
    "        for i in params:\n",
    "            for j in params[i]:\n",
    "                if j in row:\n",
    "                    values[i] = row.replace(j, '')\n",
    "                    break\n",
    "                    \n",
    "    \n",
    "    # Format table rows as lists\n",
    "    for val in values:\n",
    "        try:\n",
    "            # \\u0020\\u200b\\u002f\\u0020\n",
    "            # \\u0020\\u002f\\u0020\n",
    "            values[val] = values[val].strip()\n",
    "            values[val] = values[val].replace('\\u0020\\u002f\\u0020', '/')\n",
    "            values[val] = values[val].replace('\\u0020\\u200b\\u002f\\u0020', '/')\n",
    "            values[val] = values[val].replace('\\u0020\\u200b\\u200b\\u002f\\u0020', '/')\n",
    "            values[val] = values[val].split() \n",
    "            \n",
    "        except Exception as e:\n",
    "            x = e\n",
    "            \n",
    "    \n",
    "    # Truncate long rows to the correct size\n",
    "    num_sizes = len(values['size'])\n",
    "    for val in values:\n",
    "        # Sidecuts can have more than one radius\n",
    "        if val != \"sidecut\":\n",
    "            values[val] = values[val][:num_sizes]\n",
    "\n",
    "        # Remove rogue characters from row values\n",
    "        if len(values[val]) > 0 and type(values[val][0]) == str:\n",
    "            for x, v in enumerate(values[val]):\n",
    "                values[val][x] = values[val][x].replace('\\u200b', '')\n",
    "        \n",
    "        \n",
    "        # Fill empty or missing data with null values\n",
    "        for x in range(num_sizes - len(values[val])):\n",
    "            \n",
    "            values[val].append(0)\n",
    "            \n",
    "    \n",
    "        \n",
    "        \n",
    "    return values"
   ]
  },
  {
   "cell_type": "code",
   "execution_count": 526,
   "id": "8d83ef3d",
   "metadata": {},
   "outputs": [],
   "source": [
    "# Save skiboard in MySQL DB\n",
    "# --------------------------------------------------\n",
    "def save_skiboard(skiboard):\n",
    "    try:\n",
    "        sql = f\"\"\"INSERT INTO skiboards (\n",
    "            url,\n",
    "            brand,\n",
    "            model,\n",
    "            year,\n",
    "            name,\n",
    "            slug,\n",
    "            category,\n",
    "            family,\n",
    "            description,\n",
    "            stiffness,\n",
    "            shape,\n",
    "            flex_profile,\n",
    "            camber_profile,\n",
    "            camber_details,\n",
    "            core,\n",
    "            core_profiling,\n",
    "            fibreglass,\n",
    "            laminates,\n",
    "            resin,\n",
    "            base,\n",
    "            edges,\n",
    "            edge_tech,\n",
    "            topsheet,\n",
    "            sidewall,\n",
    "            inserts,\n",
    "            asym,\n",
    "            weight,\n",
    "            womens,\n",
    "            youth\n",
    "        ) VALUES (\n",
    "            '{skiboard['url']}',\n",
    "            '{skiboard['brand']}',\n",
    "            '{skiboard['model']}',\n",
    "            '{skiboard['year']}',\n",
    "            '{str(skiboard['brand']).title()} {str(skiboard['model']).title()} {str(skiboard['year'])}',\n",
    "            '{str(skiboard['brand']).lower().replace(' ', '-')}-{str(skiboard['model']).lower().replace(' ', '-')}-{str(skiboard['year'])}',\n",
    "            '{skiboard['category']}',\n",
    "            '{skiboard['family']}',\n",
    "            '{skiboard['description']}',\n",
    "            '{skiboard['stiffness']}',\n",
    "            '{skiboard['shape']}',\n",
    "            '{skiboard['flex_profile']}',\n",
    "            '{skiboard['camber_profile']}',\n",
    "            '{skiboard['camber_details']}',\n",
    "            '{skiboard['core']}',\n",
    "            '{skiboard['core_profiling']}',\n",
    "            '{skiboard['fibreglass']}',\n",
    "            '{skiboard['laminates']}',\n",
    "            '{skiboard['resin']}',\n",
    "            '{skiboard['base']}',\n",
    "            '{skiboard['edges']}',\n",
    "            '{skiboard['edge_tech']}',\n",
    "            '{skiboard['topsheet']}',\n",
    "            '{skiboard['sidewall']}',\n",
    "            '{skiboard['inserts']}',\n",
    "            '{skiboard['asym']}',\n",
    "            '{skiboard['weight']}',\n",
    "            '{skiboard['womens']}',\n",
    "            '{skiboard['youth']}'\n",
    "        )\"\"\"\n",
    "        cursor.execute(sql)\n",
    "        db.commit()\n",
    "    except Exception as e:\n",
    "        print(f\"ERROR:\\n{e}\")"
   ]
  },
  {
   "cell_type": "code",
   "execution_count": 527,
   "id": "2bf2e541",
   "metadata": {},
   "outputs": [],
   "source": [
    "# Save data in MySQL DB\n",
    "# --------------------------------------------------\n",
    "def save_values(skiboard, values):\n",
    "    #print(f\"Importing...\\n{str(skiboard['brand']).capitalize()} {str(skiboard['model']).capitalize()} {str(skiboard['year'])}\\nValues:\\n{values}\")\n",
    "\n",
    "    for x in range(len(values['size'])):\n",
    "        try:\n",
    "            sql = f\"\"\"REPLACE INTO sizes (\n",
    "                skiboard_id,\n",
    "                size,\n",
    "                nose_width,\n",
    "                waist_width,\n",
    "                tail_width,\n",
    "                sidecut,\n",
    "                setback,\n",
    "                effective_edge\n",
    "            ) VALUES (\n",
    "                '{str(skiboard['id'])}',\n",
    "                '{str(values['size'][x])}',\n",
    "                '{float(values['nose width'][x])}',\n",
    "                '{float(values['waist width'][x])}',\n",
    "                '{float(values['tail width'][x])}',\n",
    "                '{str(values['sidecut'][x])}',\n",
    "                '{float(values['setback'][x])}',\n",
    "                '{float(values['effective edge'][x])}'\n",
    "            )\"\"\"\n",
    "\n",
    "            cursor.execute(sql)\n",
    "            db.commit()\n",
    "        except Exception as e:\n",
    "            print(f\"ERROR: size ({values['size'][x]})\\n{e}\\n\")\n",
    "            print(f\"SQL:\\n{sql}\\n\\n\")\n",
    "    \n",
    "    return True"
   ]
  },
  {
   "cell_type": "markdown",
   "id": "8b96c317",
   "metadata": {},
   "source": [
    "# Create New SkiBoard\n",
    "---"
   ]
  },
  {
   "cell_type": "code",
   "execution_count": 528,
   "id": "59c3afbb",
   "metadata": {},
   "outputs": [],
   "source": [
    "id_counter = 180"
   ]
  },
  {
   "cell_type": "code",
   "execution_count": 529,
   "id": "fa28dff0",
   "metadata": {},
   "outputs": [
    {
     "name": "stdout",
     "output_type": "stream",
     "text": [
      "180\n"
     ]
    }
   ],
   "source": [
    "print(id_counter)"
   ]
  },
  {
   "cell_type": "code",
   "execution_count": 543,
   "id": "4d4b2082",
   "metadata": {},
   "outputs": [],
   "source": [
    "skiboard = {\n",
    "    'id': id_counter,\n",
    "    'url': '',\n",
    "    'brand': 'Rome',\n",
    "    'model': 'Mod',\n",
    "    'year': 2020,\n",
    "    'category': 'Snowboard',\n",
    "    'family': '',\n",
    "    'description': \"Send your boring board to The Hague. The Rome Warden Snowboard rips groomers, polices the tree runs, and liberates you from the cruelty of having to pay for the privilege to rely on someone else's beat-up rental junk. Lay down a mean euro, play in a secret pow stash and slash your way down the hill with authori-tah. The Rome Warden Snowboard hates to be confined and loves to get after it day after day thanks to its durable extruded base and bamboo stringer construction.\".replace(\"'\", \"`\"),\n",
    "    'stiffness': 8,\n",
    "    'shape': 'Twin',\n",
    "    'flex_profile': '',\n",
    "    'camber_profile': 'Full Camber',\n",
    "    'camber_details': 'Stay Positive Camber',\n",
    "    'core': \"Pop Core Matrix\".replace(\"'\", \"`\"),\n",
    "    'core_profiling': '',\n",
    "    'fibreglass': 'Biax',\n",
    "    'laminates': 'TurboRod Configuration ~ Glasspack Impact Plates',\n",
    "    'base': 'SinterCarbon Base',\n",
    "    'edges': '',\n",
    "    'edge_tech': '',\n",
    "    'topsheet': '',\n",
    "    'resin': '',\n",
    "    'sidewall': '',\n",
    "    'inserts': '4x2',\n",
    "    'asym': 0,\n",
    "    'weight': 0,\n",
    "    'womens': 0,\n",
    "    'youth': 0\n",
    "}"
   ]
  },
  {
   "cell_type": "code",
   "execution_count": 544,
   "id": "3e1974a3",
   "metadata": {},
   "outputs": [],
   "source": [
    "save_skiboard(skiboard)"
   ]
  },
  {
   "cell_type": "code",
   "execution_count": 545,
   "id": "7f5e4ed2",
   "metadata": {},
   "outputs": [
    {
     "name": "stdout",
     "output_type": "stream",
     "text": [
      "182\n"
     ]
    }
   ],
   "source": [
    "print(skiboard['id'])"
   ]
  },
  {
   "cell_type": "code",
   "execution_count": null,
   "id": "09f7d6d3",
   "metadata": {},
   "outputs": [],
   "source": []
  },
  {
   "cell_type": "markdown",
   "id": "2d313281",
   "metadata": {},
   "source": [
    "# Add Sizes to SkiBoard\n",
    "---"
   ]
  },
  {
   "cell_type": "code",
   "execution_count": 546,
   "id": "e0b6f365",
   "metadata": {},
   "outputs": [],
   "source": [
    "#skiboard['id'] = 181"
   ]
  },
  {
   "cell_type": "code",
   "execution_count": 547,
   "id": "48aec93d",
   "metadata": {},
   "outputs": [
    {
     "name": "stdout",
     "output_type": "stream",
     "text": [
      "Please submit yourski/snowboard size table\n",
      "\n",
      "Size (cm)\t149\t152\t155\t157W\t158\t160W Effective Edge (mm)\t1150\t1180\t1210\t1230\t1240\t1260 Waist Width (mm)\t248\t251\t254\t268\t256\t270 Sidecut Radius (m)\t7.3\t7.52\t7.78\t7.87\t7.93\t7.98 Stance Setback (in)\t0\t0\t0\t0\t0\t0 Stance Setback (mm)\t0\t0\t0\t0\t0\t0 Stance Range (in)\t18.5 - 23.25\t18.5 - 23.25\t19.5 - 24.25\t19.5 - 24.25\t19.5 - 24.25\t19.5 - 24.25 Rider Weight (lbs)\t100 - 150\t110 - 165\t115 - 170\t130 - 190\t150 - 220​+\t150 - 220​+ Width\tRegular\tRegular\tRegular\tWide\tRegular\tWide\n"
     ]
    }
   ],
   "source": [
    "table = input(\"Please submit yourski/snowboard size table\\n\\n\").lower()"
   ]
  },
  {
   "cell_type": "code",
   "execution_count": 548,
   "id": "35a6a7ee",
   "metadata": {},
   "outputs": [
    {
     "name": "stdout",
     "output_type": "stream",
     "text": [
      "Row: size \t149\t152\t155\t157w\t158\t160w \n",
      "Row: effective edge \t1150\t1180\t1210\t1230\t1240\t1260 \n",
      "Row: waist width \t248\t251\t254\t268\t256\t270 \n",
      "Row: sidecut radius \t7.3\t7.52\t7.78\t7.87\t7.93\t7.98 \n"
     ]
    }
   ],
   "source": [
    "values = extract_data(table)"
   ]
  },
  {
   "cell_type": "code",
   "execution_count": 549,
   "id": "25871754",
   "metadata": {},
   "outputs": [
    {
     "name": "stdout",
     "output_type": "stream",
     "text": [
      "size:\n",
      "['149', '152', '155', '157w', '158', '160w']\n",
      "\n",
      "\n",
      "nose width:\n",
      "[0, 0, 0, 0, 0, 0]\n",
      "\n",
      "\n",
      "waist width:\n",
      "['248', '251', '254', '268', '256', '270']\n",
      "\n",
      "\n",
      "tail width:\n",
      "[0, 0, 0, 0, 0, 0]\n",
      "\n",
      "\n",
      "sidecut:\n",
      "['7.3', '7.52', '7.78', '7.87', '7.93', '7.98']\n",
      "\n",
      "\n",
      "setback:\n",
      "['0', '0', '0', '0', '0', '0']\n",
      "\n",
      "\n",
      "effective edge:\n",
      "['1150', '1180', '1210', '1230', '1240', '1260']\n",
      "\n",
      "\n"
     ]
    }
   ],
   "source": [
    "for row in values:\n",
    "    print(f\"{row}:\\n{values[row]}\\n\\n\")"
   ]
  },
  {
   "cell_type": "code",
   "execution_count": 550,
   "id": "c4951caa",
   "metadata": {},
   "outputs": [
    {
     "name": "stdout",
     "output_type": "stream",
     "text": [
      "\n",
      "SUCCESS!\n"
     ]
    }
   ],
   "source": [
    "success = save_values(skiboard, values)\n",
    "if success:\n",
    "    print(\"\\nSUCCESS!\")\n",
    "    id_counter += 1"
   ]
  },
  {
   "cell_type": "code",
   "execution_count": null,
   "id": "e215af83",
   "metadata": {},
   "outputs": [],
   "source": []
  },
  {
   "cell_type": "code",
   "execution_count": null,
   "id": "2b3b4b65",
   "metadata": {},
   "outputs": [],
   "source": []
  },
  {
   "cell_type": "code",
   "execution_count": null,
   "id": "c09bd3e0",
   "metadata": {},
   "outputs": [],
   "source": []
  }
 ],
 "metadata": {
  "kernelspec": {
   "display_name": "Python 3 (ipykernel)",
   "language": "python",
   "name": "python3"
  },
  "language_info": {
   "codemirror_mode": {
    "name": "ipython",
    "version": 3
   },
   "file_extension": ".py",
   "mimetype": "text/x-python",
   "name": "python",
   "nbconvert_exporter": "python",
   "pygments_lexer": "ipython3",
   "version": "3.11.2"
  }
 },
 "nbformat": 4,
 "nbformat_minor": 5
}
