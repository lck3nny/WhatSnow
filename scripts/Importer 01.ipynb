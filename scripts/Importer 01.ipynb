{
 "cells": [
  {
   "cell_type": "markdown",
   "id": "ab51f088",
   "metadata": {},
   "source": [
    "# Imports\n",
    "---\n",
    "Import new skis / snowboards to an SQL database"
   ]
  },
  {
   "cell_type": "code",
   "execution_count": 32,
   "id": "22d5f32d",
   "metadata": {},
   "outputs": [],
   "source": [
    "import json\n",
    "import pymysql\n",
    "import re"
   ]
  },
  {
   "cell_type": "code",
   "execution_count": 33,
   "id": "7ed7cfa2",
   "metadata": {},
   "outputs": [],
   "source": [
    "# Database Setup\n",
    "# --------------------------------------------------\n",
    "def setupdb():\n",
    "    f = open('../app/config/localdb_config.json')\n",
    "    dbconfig = json.loads(f.read())\n",
    "    db = pymysql.connect(host=dbconfig['localhost'], user=dbconfig['username'], password=dbconfig['password'], database=dbconfig['database'])\n",
    "    f.close()\n",
    "    return db"
   ]
  },
  {
   "cell_type": "code",
   "execution_count": 34,
   "id": "d353b387",
   "metadata": {},
   "outputs": [],
   "source": [
    "db = setupdb()\n",
    "cursor = db.cursor()"
   ]
  },
  {
   "cell_type": "code",
   "execution_count": 35,
   "id": "34793ac2",
   "metadata": {},
   "outputs": [],
   "source": [
    "params = {\n",
    "    'size': ['size', 'length'],\n",
    "    'nose width': ['nose width', 'tip width'],\n",
    "    'waist width': ['waist width'],\n",
    "    'tail width': ['tail width'],\n",
    "    'sidecut': ['sidecut radius', 'turning radius', 'radius', 'sidecut'],\n",
    "    'setback': ['stance setback', 'setback'],\n",
    "    'effective edge': ['effective edge', 'running length']\n",
    "}"
   ]
  },
  {
   "cell_type": "code",
   "execution_count": 36,
   "id": "b5f27c55",
   "metadata": {},
   "outputs": [],
   "source": [
    "values = {\n",
    "    'size': '',\n",
    "    'nose width': '',\n",
    "    'waist width': '',\n",
    "    'tail width': '',\n",
    "    'sidecut': '',\n",
    "    'setback': '',\n",
    "    'effective edge': ''\n",
    "}"
   ]
  },
  {
   "cell_type": "code",
   "execution_count": 240,
   "id": "2f1910ad",
   "metadata": {},
   "outputs": [],
   "source": [
    "# Extraction of data \n",
    "# from string format to a tabular structure\n",
    "# --------------------------------------------------\n",
    "def extract_data(table):\n",
    "    # Remove units from headings\n",
    "    while re.search(r'\\(([a-zA-Z]+)\\)', table) != None:\n",
    "        match = re.search(r'\\(([a-zA-Z]+)\\)', table)\n",
    "        substr = table[match.start():match.end()]\n",
    "        table = table.replace(substr, '')\n",
    "    '''    \n",
    "    while ')' in table:\n",
    "        table = table[:table.find('(')] + table[table.find(')') + 1:]\n",
    "    '''    \n",
    "        \n",
    "    breakpoints = []\n",
    "    \n",
    "    # Find location of headings in table\n",
    "    for i in params:\n",
    "        # Check each param alias\n",
    "        for j in params[i]:\n",
    "            if j in table:\n",
    "                breakpoints.append(table.find(j))\n",
    "                break\n",
    "        \n",
    "        values[i] = []\n",
    "        \n",
    "    # Extract table data into rows\n",
    "    rows = []\n",
    "    breakpoints.sort()\n",
    "    for i, b in enumerate(breakpoints):\n",
    "        if i > 0:\n",
    "            rows.append(table[breakpoints[i-1]:b])\n",
    "            print(f\"Row: {table[breakpoints[i-1]:b]}\")\n",
    "        if i == len(breakpoints) -1:\n",
    "            rows.append(table[b:])\n",
    "    \n",
    "    \n",
    "    # Remove lables from rows\n",
    "    for row in rows:\n",
    "        for i in params:\n",
    "            for j in params[i]:\n",
    "                if j in row:\n",
    "                    values[i] = row.replace(j, '')\n",
    "                    break\n",
    "                    \n",
    "    \n",
    "    # Format table rows as lists\n",
    "    for val in values:\n",
    "        try:\n",
    "            # \\u0020\\u200b\\u002f\\u0020\n",
    "            \n",
    "            values[val] = values[val].strip()\n",
    "            values[val] = values[val].replace('\\u0020\\u200b\\u002f\\u0020', '/')\n",
    "            values[val] = values[val].replace('\\u0020\\u200b\\u200b\\u002f\\u0020', '/')\n",
    "            values[val] = values[val].split() \n",
    "            \n",
    "        except Exception as e:\n",
    "            x = e\n",
    "            \n",
    "    \n",
    "    # Truncate long rows to the correct size\n",
    "    num_sizes = len(values['size'])\n",
    "    for val in values:\n",
    "        # Sidecuts can have more than one radius\n",
    "        if val != \"sidecut\":\n",
    "            values[val] = values[val][:num_sizes]\n",
    "\n",
    "        # Remove rogue characters from row values\n",
    "        if len(values[val]) > 0 and type(values[val][0]) == str:\n",
    "            for x, v in enumerate(values[val]):\n",
    "                values[val][x] = values[val][x].replace('\\u200b', '')\n",
    "        \n",
    "        \n",
    "        # Fill empty or missing data with null values\n",
    "        for x in range(num_sizes - len(values[val])):\n",
    "            \n",
    "            values[val].append(0)\n",
    "            \n",
    "    \n",
    "        \n",
    "        \n",
    "    return values"
   ]
  },
  {
   "cell_type": "code",
   "execution_count": 115,
   "id": "8d83ef3d",
   "metadata": {},
   "outputs": [],
   "source": [
    "# Save skiboard in MySQL DB\n",
    "# --------------------------------------------------\n",
    "def save_skiboard(skiboard):\n",
    "    try:\n",
    "        sql = f\"\"\"INSERT INTO skiboards (\n",
    "            url,\n",
    "            brand,\n",
    "            model,\n",
    "            year,\n",
    "            name,\n",
    "            slug,\n",
    "            category,\n",
    "            family,\n",
    "            description,\n",
    "            stiffness,\n",
    "            shape,\n",
    "            flex_profile,\n",
    "            camber_profile,\n",
    "            camber_details,\n",
    "            core,\n",
    "            core_profiling,\n",
    "            fibreglass,\n",
    "            laminates,\n",
    "            resin,\n",
    "            base,\n",
    "            edges,\n",
    "            edge_tech,\n",
    "            topsheet,\n",
    "            sidewall,\n",
    "            inserts,\n",
    "            asym,\n",
    "            weight,\n",
    "            womens,\n",
    "            youth\n",
    "        ) VALUES (\n",
    "            '{skiboard['url']}',\n",
    "            '{skiboard['brand']}',\n",
    "            '{skiboard['model']}',\n",
    "            '{skiboard['year']}',\n",
    "            '{str(skiboard['brand']).title()} {str(skiboard['model']).title()} {str(skiboard['year'])}',\n",
    "            '{str(skiboard['brand']).lower().replace(' ', '-')}-{str(skiboard['model']).lower().replace(' ', '-')}-{str(skiboard['year'])}',\n",
    "            '{skiboard['category']}',\n",
    "            '{skiboard['family']}',\n",
    "            '{skiboard['description']}',\n",
    "            '{skiboard['stiffness']}',\n",
    "            '{skiboard['shape']}',\n",
    "            '{skiboard['flex_profile']}',\n",
    "            '{skiboard['camber_profile']}',\n",
    "            '{skiboard['camber_details']}',\n",
    "            '{skiboard['core']}',\n",
    "            '{skiboard['core_profiling']}',\n",
    "            '{skiboard['fibreglass']}',\n",
    "            '{skiboard['laminates']}',\n",
    "            '{skiboard['resin']}',\n",
    "            '{skiboard['base']}',\n",
    "            '{skiboard['edges']}',\n",
    "            '{skiboard['edge_tech']}',\n",
    "            '{skiboard['topsheet']}',\n",
    "            '{skiboard['sidewall']}',\n",
    "            '{skiboard['inserts']}',\n",
    "            '{skiboard['asym']}',\n",
    "            '{skiboard['weight']}',\n",
    "            '{skiboard['womens']}',\n",
    "            '{skiboard['youth']}'\n",
    "        )\"\"\"\n",
    "        cursor.execute(sql)\n",
    "        db.commit()\n",
    "    except Exception as e:\n",
    "        print(f\"ERROR:\\n{e}\")"
   ]
  },
  {
   "cell_type": "code",
   "execution_count": 39,
   "id": "2bf2e541",
   "metadata": {},
   "outputs": [],
   "source": [
    "# Save data in MySQL DB\n",
    "# --------------------------------------------------\n",
    "def save_values(skiboard, values):\n",
    "    #print(f\"Importing...\\n{str(skiboard['brand']).capitalize()} {str(skiboard['model']).capitalize()} {str(skiboard['year'])}\\nValues:\\n{values}\")\n",
    "\n",
    "    for x in range(len(values['size'])):\n",
    "        try:\n",
    "            sql = f\"\"\"REPLACE INTO sizes (\n",
    "                skiboard_id,\n",
    "                size,\n",
    "                nose_width,\n",
    "                waist_width,\n",
    "                tail_width,\n",
    "                sidecut,\n",
    "                setback,\n",
    "                effective_edge\n",
    "            ) VALUES (\n",
    "                '{str(skiboard['id'])}',\n",
    "                '{str(values['size'][x])}',\n",
    "                '{float(values['nose width'][x])}',\n",
    "                '{float(values['waist width'][x])}',\n",
    "                '{float(values['tail width'][x])}',\n",
    "                '{str(values['sidecut'][x])}',\n",
    "                '{float(values['setback'][x])}',\n",
    "                '{float(values['effective edge'][x])}'\n",
    "            )\"\"\"\n",
    "\n",
    "            cursor.execute(sql)\n",
    "            db.commit()\n",
    "        except Exception as e:\n",
    "            print(f\"ERROR: size ({values['size'][x]})\\n{e}\\n\")\n",
    "            print(f\"SQL:\\n{sql}\\n\\n\")\n",
    "    \n",
    "    return True"
   ]
  },
  {
   "cell_type": "markdown",
   "id": "8b96c317",
   "metadata": {},
   "source": [
    "# Create New SkiBoard\n",
    "---"
   ]
  },
  {
   "cell_type": "code",
   "execution_count": 40,
   "id": "59c3afbb",
   "metadata": {},
   "outputs": [],
   "source": [
    "id_counter = 97"
   ]
  },
  {
   "cell_type": "code",
   "execution_count": 41,
   "id": "fa28dff0",
   "metadata": {},
   "outputs": [
    {
     "name": "stdout",
     "output_type": "stream",
     "text": [
      "97\n"
     ]
    }
   ],
   "source": [
    "print(id_counter)"
   ]
  },
  {
   "cell_type": "code",
   "execution_count": 158,
   "id": "4d4b2082",
   "metadata": {},
   "outputs": [],
   "source": [
    "skiboard = {\n",
    "    'id': id_counter,\n",
    "    'url': '',\n",
    "    'brand': 'Ride',\n",
    "    'model': 'Back Talk',\n",
    "    'year': 2020,\n",
    "    'category': 'Snowboard',\n",
    "    'family': '',\n",
    "    'description': \"Be careful with this board, disrespect it and you might get floored. Do right by it and you'll find yourself with a loyal mountain companion that'll stay by your side through thick powder and thin cover. The Ride Back Talk Snowboard is freestyle beast loaded with pop and power for high-flying rippers. The asymmetrical twin shape, quadratic sidecut, and stiff flex make this lightweight stick a twitchy fast, super responsive savage in the park and all over the frontside.\".replace(\"'\", \"`\"),\n",
    "    'stiffness': 7,\n",
    "    'shape': 'Twin',\n",
    "    'flex_profile': '',\n",
    "    'camber_profile': 'Hybrid Camber',\n",
    "    'camber_details': '',\n",
    "    'core': \"Women's Specific Performance™ Core\".replace(\"'\", \"`\"),\n",
    "    'core_profiling': '',\n",
    "    'fibreglass': 'Hybrid Glass',\n",
    "    'laminates': 'Carbon Array™ 5 Laminates ~ Double Impact Plates',\n",
    "    'base': 'Sintered, Stone Ground Base',\n",
    "    'edges': 'Cleave Edge™ Steel',\n",
    "    'edge_tech': '',\n",
    "    'topsheet': '',\n",
    "    'resin': '',\n",
    "    'sidewall': 'Roll-In Slimewall® ~ Carbon Slimewalls®',\n",
    "    'inserts': '4x2',\n",
    "    'asym': 1,\n",
    "    'weight': 0,\n",
    "    'womens': 1,\n",
    "    'youth': 0\n",
    "}"
   ]
  },
  {
   "cell_type": "code",
   "execution_count": 159,
   "id": "3e1974a3",
   "metadata": {},
   "outputs": [],
   "source": [
    "save_skiboard(skiboard)"
   ]
  },
  {
   "cell_type": "code",
   "execution_count": 160,
   "id": "7f5e4ed2",
   "metadata": {},
   "outputs": [
    {
     "name": "stdout",
     "output_type": "stream",
     "text": [
      "105\n"
     ]
    }
   ],
   "source": [
    "print(skiboard['id'])"
   ]
  },
  {
   "cell_type": "code",
   "execution_count": null,
   "id": "31464405",
   "metadata": {},
   "outputs": [],
   "source": []
  },
  {
   "cell_type": "markdown",
   "id": "2d313281",
   "metadata": {},
   "source": [
    "# Add Sizes to SkiBoard\n",
    "---"
   ]
  },
  {
   "cell_type": "code",
   "execution_count": 205,
   "id": "4a4a87d4",
   "metadata": {},
   "outputs": [],
   "source": [
    "skiboard = {\n",
    "    'id': 105\n",
    "}"
   ]
  },
  {
   "cell_type": "code",
   "execution_count": 241,
   "id": "48aec93d",
   "metadata": {},
   "outputs": [
    {
     "name": "stdout",
     "output_type": "stream",
     "text": [
      "Please submit your ski/snowboard size table\n",
      "\n",
      "Size (cm)\t138\t142\t146\t150 Effective Edge (mm)\t1076\t1101\t1126\t1152 Tip Width (mm)\t279\t282\t285\t289 Waist Width (mm)\t236\t238\t240\t242 Tail Width (mm)\t279\t282\t285\t289 Sidecut Radius (m)\t(9.4​​/8.15) ​​/ (6.9​​/5.65) ​​/ (9.4​​/8.15)\t(9.5​​/8.25) ​​/ (7​​/5.75) ​​/ (9.5​​/8.25)\t(9.6​​/8.35) ​​/ (7.1​​/5.85) ​​/ (9.6​​/8.35)\t(9.7​​/8.45) ​​/ (7.2​​/5.95) ​​/ (9.7​​/8.45) Stance Setback (mm)\t0\t0\t0\t0 Rider Weight (lbs)\t60-100\t70-100\t85-130\t100-150 Width\tRegular\tRegular\tRegular\tRegular\n"
     ]
    }
   ],
   "source": [
    "table = input(\"Please submit your ski/snowboard size table\\n\\n\").lower()"
   ]
  },
  {
   "cell_type": "code",
   "execution_count": 242,
   "id": "35a6a7ee",
   "metadata": {},
   "outputs": [
    {
     "name": "stdout",
     "output_type": "stream",
     "text": [
      "Row: size \t138\t142\t146\t150 \n",
      "Row: effective edge \t1076\t1101\t1126\t1152 \n",
      "Row: tip width \t279\t282\t285\t289 \n",
      "Row: waist width \t236\t238\t240\t242 \n",
      "Row: tail width \t279\t282\t285\t289 \n",
      "Row: sidecut radius \t(9.4​​/8.15) ​​/ (6.9​​/5.65) ​​/ (9.4​​/8.15)\t(9.5​​/8.25) ​​/ (7​​/5.75) ​​/ (9.5​​/8.25)\t(9.6​​/8.35) ​​/ (7.1​​/5.85) ​​/ (9.6​​/8.35)\t(9.7​​/8.45) ​​/ (7.2​​/5.95) ​​/ (9.7​​/8.45) \n"
     ]
    }
   ],
   "source": [
    "values = extract_data(table)"
   ]
  },
  {
   "cell_type": "code",
   "execution_count": 243,
   "id": "25871754",
   "metadata": {},
   "outputs": [
    {
     "name": "stdout",
     "output_type": "stream",
     "text": [
      "size:\n",
      "['138', '142', '146', '150']\n",
      "\n",
      "\n",
      "nose width:\n",
      "['279', '282', '285', '289']\n",
      "\n",
      "\n",
      "waist width:\n",
      "['236', '238', '240', '242']\n",
      "\n",
      "\n",
      "tail width:\n",
      "['279', '282', '285', '289']\n",
      "\n",
      "\n",
      "sidecut:\n",
      "['(9.4/8.15)/(6.9/5.65)/(9.4/8.15)', '(9.5/8.25)/(7/5.75)/(9.5/8.25)', '(9.6/8.35)/(7.1/5.85)/(9.6/8.35)', '(9.7/8.45)/(7.2/5.95)/(9.7/8.45)']\n",
      "\n",
      "\n",
      "setback:\n",
      "['0', '0', '0', '0']\n",
      "\n",
      "\n",
      "effective edge:\n",
      "['1076', '1101', '1126', '1152']\n",
      "\n",
      "\n"
     ]
    }
   ],
   "source": [
    "for row in values:\n",
    "    print(f\"{row}:\\n{values[row]}\\n\\n\")"
   ]
  },
  {
   "cell_type": "code",
   "execution_count": 209,
   "id": "c4951caa",
   "metadata": {},
   "outputs": [
    {
     "name": "stdout",
     "output_type": "stream",
     "text": [
      "\n",
      "SUCCESS!\n"
     ]
    }
   ],
   "source": [
    "success = save_values(skiboard, values)\n",
    "if success:\n",
    "    print(\"\\nSUCCESS!\")\n",
    "    id_counter += 1"
   ]
  },
  {
   "cell_type": "code",
   "execution_count": null,
   "id": "e215af83",
   "metadata": {},
   "outputs": [],
   "source": []
  },
  {
   "cell_type": "code",
   "execution_count": null,
   "id": "2b3b4b65",
   "metadata": {},
   "outputs": [],
   "source": []
  },
  {
   "cell_type": "code",
   "execution_count": 238,
   "id": "b2fe9ff6",
   "metadata": {},
   "outputs": [
    {
     "name": "stdout",
     "output_type": "stream",
     "text": [
      "7\n",
      "11\n"
     ]
    }
   ],
   "source": [
    "table = \"Length (cm) (cm)123 123 123 (12.3)\"\n",
    "\n",
    "match = re.search(r'\\(([a-zA-Z]+)\\)', table)\n",
    "if match != None:\n",
    "    print(match.start())\n",
    "    print(match.end())\n"
   ]
  },
  {
   "cell_type": "code",
   "execution_count": 239,
   "id": "9812d691",
   "metadata": {},
   "outputs": [
    {
     "name": "stdout",
     "output_type": "stream",
     "text": [
      "Substr: (cm)\n",
      "Length  123 123 123 (12.3)\n"
     ]
    }
   ],
   "source": [
    "while re.search(r'\\(([a-zA-Z]+)\\)', table) != None:\n",
    "    match = re.search(r'\\(([a-zA-Z]+)\\)', table)\n",
    "    substr = table[match.start():match.end()]\n",
    "    print(f\"Substr: {substr}\")\n",
    "    table = table.replace(substr, '')\n",
    "\n",
    "print(table)"
   ]
  },
  {
   "cell_type": "code",
   "execution_count": null,
   "id": "2ce93017",
   "metadata": {},
   "outputs": [],
   "source": [
    "if re.search(r'\\(([a-zA-Z])\\)', table):\n",
    "    print(\"OK\")\n",
    "    x = re.search(\"(\\w)\", table)\n",
    "    substr = table[x.start():x.end()]\n",
    "    print(f\"SubStr: {substr}\")\n",
    "    table.replace(substr, '')\n",
    "    print(table)\n",
    "else:\n",
    "    print(\"Done\")"
   ]
  },
  {
   "cell_type": "code",
   "execution_count": null,
   "id": "8644c706",
   "metadata": {},
   "outputs": [],
   "source": [
    "print(x)"
   ]
  },
  {
   "cell_type": "code",
   "execution_count": null,
   "id": "29c93f39",
   "metadata": {},
   "outputs": [],
   "source": []
  }
 ],
 "metadata": {
  "kernelspec": {
   "display_name": "Python 3 (ipykernel)",
   "language": "python",
   "name": "python3"
  },
  "language_info": {
   "codemirror_mode": {
    "name": "ipython",
    "version": 3
   },
   "file_extension": ".py",
   "mimetype": "text/x-python",
   "name": "python",
   "nbconvert_exporter": "python",
   "pygments_lexer": "ipython3",
   "version": "3.11.2"
  }
 },
 "nbformat": 4,
 "nbformat_minor": 5
}
