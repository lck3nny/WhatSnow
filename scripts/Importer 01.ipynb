{
 "cells": [
  {
   "cell_type": "markdown",
   "id": "ab51f088",
   "metadata": {},
   "source": [
    "# Imports\n",
    "---\n",
    "Import new skis / snowboards to an SQL database"
   ]
  },
  {
   "cell_type": "code",
   "execution_count": 32,
   "id": "22d5f32d",
   "metadata": {},
   "outputs": [],
   "source": [
    "import json\n",
    "import pymysql\n",
    "import re"
   ]
  },
  {
   "cell_type": "code",
   "execution_count": 33,
   "id": "7ed7cfa2",
   "metadata": {},
   "outputs": [],
   "source": [
    "# Database Setup\n",
    "# --------------------------------------------------\n",
    "def setupdb():\n",
    "    f = open('../app/config/localdb_config.json')\n",
    "    dbconfig = json.loads(f.read())\n",
    "    db = pymysql.connect(host=dbconfig['localhost'], user=dbconfig['username'], password=dbconfig['password'], database=dbconfig['database'])\n",
    "    f.close()\n",
    "    return db"
   ]
  },
  {
   "cell_type": "code",
   "execution_count": 34,
   "id": "d353b387",
   "metadata": {},
   "outputs": [],
   "source": [
    "db = setupdb()\n",
    "cursor = db.cursor()"
   ]
  },
  {
   "cell_type": "code",
   "execution_count": 35,
   "id": "34793ac2",
   "metadata": {},
   "outputs": [],
   "source": [
    "params = {\n",
    "    'size': ['size', 'length'],\n",
    "    'nose width': ['nose width', 'tip width'],\n",
    "    'waist width': ['waist width'],\n",
    "    'tail width': ['tail width'],\n",
    "    'sidecut': ['sidecut radius', 'turning radius', 'radius', 'sidecut'],\n",
    "    'setback': ['stance setback', 'setback'],\n",
    "    'effective edge': ['effective edge', 'running length']\n",
    "}"
   ]
  },
  {
   "cell_type": "code",
   "execution_count": 36,
   "id": "b5f27c55",
   "metadata": {},
   "outputs": [],
   "source": [
    "values = {\n",
    "    'size': '',\n",
    "    'nose width': '',\n",
    "    'waist width': '',\n",
    "    'tail width': '',\n",
    "    'sidecut': '',\n",
    "    'setback': '',\n",
    "    'effective edge': ''\n",
    "}"
   ]
  },
  {
   "cell_type": "code",
   "execution_count": 83,
   "id": "2f1910ad",
   "metadata": {},
   "outputs": [],
   "source": [
    "# Extraction of data \n",
    "# from string format to a tabular structure\n",
    "# --------------------------------------------------\n",
    "def extract_data(table):\n",
    "    # Remove units from headings\n",
    "    while ')' in table:\n",
    "        table = table[:table.find('(')] + table[table.find(')') + 1:]\n",
    "        \n",
    "    breakpoints = []\n",
    "    \n",
    "    # Find location of headings in table\n",
    "    for i in params:\n",
    "        # Check each param alias\n",
    "        for j in params[i]:\n",
    "            if j in table:\n",
    "                breakpoints.append(table.find(j))\n",
    "                break\n",
    "        \n",
    "        values[i] = []\n",
    "        \n",
    "    # Extract table data into rows\n",
    "    rows = []\n",
    "    breakpoints.sort()\n",
    "    for i, b in enumerate(breakpoints):\n",
    "        if i > 0:\n",
    "            rows.append(table[breakpoints[i-1]:b])\n",
    "            print(f\"Row: {table[breakpoints[i-1]:b]}\")\n",
    "        if i == len(breakpoints) -1:\n",
    "            rows.append(table[b:])\n",
    "    \n",
    "    \n",
    "    # Remove lables from rows\n",
    "    for row in rows:\n",
    "        for i in params:\n",
    "            for j in params[i]:\n",
    "                if j in row:\n",
    "                    values[i] = row.replace(j, '')\n",
    "                    break\n",
    "                    \n",
    "    \n",
    "    # Format table rows as lists\n",
    "    for val in values:\n",
    "        try:\n",
    "            if val == 'sidecut':\n",
    "                print(values[val])\n",
    "            values[val] = values[val].strip()\n",
    "            values[val] = values[val].replace('\\u200b/\\u200b', '/')\n",
    "            values[val] = values[val].split() \n",
    "            \n",
    "        except Exception as e:\n",
    "            x = e\n",
    "            \n",
    "    \n",
    "    # Truncate long rows to the correct size\n",
    "    num_sizes = len(values['size'])\n",
    "    for val in values:\n",
    "        # Sidecuts can have more than one radius\n",
    "        if val != \"sidecut\":\n",
    "            values[val] = values[val][:num_sizes]\n",
    "\n",
    "        # Remove rogue characters from row values\n",
    "        if len(values[val]) > 0 and type(values[val][0]) == str:\n",
    "            for x, v in enumerate(values[val]):\n",
    "                values[val][x] = values[val][x].replace('\\u200b', '')\n",
    "        \n",
    "        \n",
    "        # Fill empty or missing data with null values\n",
    "        for x in range(num_sizes - len(values[val])):\n",
    "            \n",
    "            values[val].append(0)\n",
    "            \n",
    "    \n",
    "        \n",
    "        \n",
    "    return values"
   ]
  },
  {
   "cell_type": "code",
   "execution_count": 38,
   "id": "8d83ef3d",
   "metadata": {},
   "outputs": [],
   "source": [
    "# Save skiboard in MySQL DB\n",
    "# --------------------------------------------------\n",
    "def save_skiboard(skiboard):\n",
    "    try:\n",
    "        sql = f\"\"\"INSERT INTO skiboards (\n",
    "            url,\n",
    "            brand,\n",
    "            model,\n",
    "            year,\n",
    "            name,\n",
    "            slug,\n",
    "            category,\n",
    "            family,\n",
    "            description,\n",
    "            stiffness,\n",
    "            shape,\n",
    "            flex_profile,\n",
    "            camber_profile,\n",
    "            camber_details,\n",
    "            core,\n",
    "            core_profiling,\n",
    "            fibreglass,\n",
    "            laminates,\n",
    "            resin,\n",
    "            base,\n",
    "            edge_tech,\n",
    "            topsheet,\n",
    "            sidewall,\n",
    "            inserts,\n",
    "            asym,\n",
    "            weight,\n",
    "            womens,\n",
    "            youth\n",
    "        ) VALUES (\n",
    "            '{skiboard['url']}',\n",
    "            '{skiboard['brand']}',\n",
    "            '{skiboard['model']}',\n",
    "            '{skiboard['year']}',\n",
    "            '{str(skiboard['brand']).title()} {str(skiboard['model']).title()} {str(skiboard['year'])}',\n",
    "            '{str(skiboard['brand']).lower().replace(' ', '-')}-{str(skiboard['model']).lower().replace(' ', '-')}-{str(skiboard['year'])}',\n",
    "            '{skiboard['category']}',\n",
    "            '{skiboard['family']}',\n",
    "            '{skiboard['description']}',\n",
    "            '{skiboard['stiffness']}',\n",
    "            '{skiboard['shape']}',\n",
    "            '{skiboard['flex_profile']}',\n",
    "            '{skiboard['camber_profile']}',\n",
    "            '{skiboard['camber_details']}',\n",
    "            '{skiboard['core']}',\n",
    "            '{skiboard['core_profiling']}',\n",
    "            '{skiboard['fibreglass']}',\n",
    "            '{skiboard['laminates']}',\n",
    "            '{skiboard['resin']}',\n",
    "            '{skiboard['base']}',\n",
    "            '{skiboard['edge_tech']}',\n",
    "            '{skiboard['topsheet']}',\n",
    "            '{skiboard['sidewall']}',\n",
    "            '{skiboard['inserts']}',\n",
    "            '{skiboard['asym']}',\n",
    "            '{skiboard['weight']}',\n",
    "            '{skiboard['womens']}',\n",
    "            '{skiboard['youth']}'\n",
    "        )\"\"\"\n",
    "        cursor.execute(sql)\n",
    "        db.commit()\n",
    "    except Exception as e:\n",
    "        print(f\"ERROR:\\n{e}\")"
   ]
  },
  {
   "cell_type": "code",
   "execution_count": 39,
   "id": "2bf2e541",
   "metadata": {},
   "outputs": [],
   "source": [
    "# Save data in MySQL DB\n",
    "# --------------------------------------------------\n",
    "def save_values(skiboard, values):\n",
    "    #print(f\"Importing...\\n{str(skiboard['brand']).capitalize()} {str(skiboard['model']).capitalize()} {str(skiboard['year'])}\\nValues:\\n{values}\")\n",
    "\n",
    "    for x in range(len(values['size'])):\n",
    "        try:\n",
    "            sql = f\"\"\"REPLACE INTO sizes (\n",
    "                skiboard_id,\n",
    "                size,\n",
    "                nose_width,\n",
    "                waist_width,\n",
    "                tail_width,\n",
    "                sidecut,\n",
    "                setback,\n",
    "                effective_edge\n",
    "            ) VALUES (\n",
    "                '{str(skiboard['id'])}',\n",
    "                '{str(values['size'][x])}',\n",
    "                '{float(values['nose width'][x])}',\n",
    "                '{float(values['waist width'][x])}',\n",
    "                '{float(values['tail width'][x])}',\n",
    "                '{str(values['sidecut'][x])}',\n",
    "                '{float(values['setback'][x])}',\n",
    "                '{float(values['effective edge'][x])}'\n",
    "            )\"\"\"\n",
    "\n",
    "            cursor.execute(sql)\n",
    "            db.commit()\n",
    "        except Exception as e:\n",
    "            print(f\"ERROR: size ({values['size'][x]})\\n{e}\\n\")\n",
    "            print(f\"SQL:\\n{sql}\\n\\n\")\n",
    "    \n",
    "    return True"
   ]
  },
  {
   "cell_type": "markdown",
   "id": "8b96c317",
   "metadata": {},
   "source": [
    "# Create New SkiBoard\n",
    "---"
   ]
  },
  {
   "cell_type": "code",
   "execution_count": 40,
   "id": "59c3afbb",
   "metadata": {},
   "outputs": [],
   "source": [
    "id_counter = 97"
   ]
  },
  {
   "cell_type": "code",
   "execution_count": 41,
   "id": "fa28dff0",
   "metadata": {},
   "outputs": [
    {
     "name": "stdout",
     "output_type": "stream",
     "text": [
      "97\n"
     ]
    }
   ],
   "source": [
    "print(id_counter)"
   ]
  },
  {
   "cell_type": "code",
   "execution_count": 42,
   "id": "4d4b2082",
   "metadata": {},
   "outputs": [],
   "source": [
    "skiboard = {\n",
    "    'id': id_counter,\n",
    "    'url': '',\n",
    "    'brand': 'Ride',\n",
    "    'model': 'Manic',\n",
    "    'year': 2020,\n",
    "    'category': 'Snowboard',\n",
    "    'family': '',\n",
    "    'description': \"Dance like you've never danced before with the Ride Manic Snowboard. This directional shredster is versatile, smooth, and super reliable when things get choppy. The lightweight aspen core is laid up with carbon stringers for added pop to fuel your moves, and the quadratic sidecut with generous tip rocker makes for easy turning through powder and chop. It's time to get wild!\".replace(\"'\", \"`\"),\n",
    "    'stiffness': 3,\n",
    "    'shape': 'Twin',\n",
    "    'flex_profile': '',\n",
    "    'camber_profile': 'Directional Hybrid Camber',\n",
    "    'camber_details': '',\n",
    "    'core': 'Foundation™ Core',\n",
    "    'core_profiling': '',\n",
    "    'fibreglass': 'Biaxial Glass',\n",
    "    'laminates': 'Single Impact Plates ~ Linear Carbon',\n",
    "    'base': 'Extruded, Stone Ground Base',\n",
    "    'edge_tech': '',\n",
    "    'topsheet': '',\n",
    "    'resin': '',\n",
    "    'sidewall': 'Slimewalls®',\n",
    "    'inserts': '4x2',\n",
    "    'asym': 0,\n",
    "    'weight': 0,\n",
    "    'womens': 0,\n",
    "    'youth': 0\n",
    "}"
   ]
  },
  {
   "cell_type": "code",
   "execution_count": 43,
   "id": "3e1974a3",
   "metadata": {},
   "outputs": [],
   "source": [
    "save_skiboard(skiboard)"
   ]
  },
  {
   "cell_type": "code",
   "execution_count": 44,
   "id": "7f5e4ed2",
   "metadata": {},
   "outputs": [
    {
     "name": "stdout",
     "output_type": "stream",
     "text": [
      "97\n"
     ]
    }
   ],
   "source": [
    "print(skiboard['id'])"
   ]
  },
  {
   "cell_type": "code",
   "execution_count": null,
   "id": "5423b179",
   "metadata": {},
   "outputs": [],
   "source": []
  },
  {
   "cell_type": "markdown",
   "id": "2d313281",
   "metadata": {},
   "source": [
    "# Add Sizes to SkiBoard\n",
    "---"
   ]
  },
  {
   "cell_type": "code",
   "execution_count": 45,
   "id": "48aec93d",
   "metadata": {},
   "outputs": [
    {
     "name": "stdout",
     "output_type": "stream",
     "text": [
      "Please submit your ski/snowboard size table\n",
      "\n",
      "Size (cm)\t151\t154\t157\t158W\t160\t161W\t163 Effective Edge (mm)\t1152\t1177\t1203\t1203\t1215\t1215\t1241 Tip Width (mm)\t293\t296\t299\t310\t301\t313\t305 Waist Width (mm)\t248\t250\t252\t263\t254\t266\t257 Tail Width (mm)\t293\t296\t299\t310\t301\t313\t305 Sidecut Radius (m)\t8.2 ​​/ 6.9 ​​/ 7.9\t8.3 ​​/ 7 ​​/ 8\t8.5 ​​/ 7.2 ​​/ 8.2\t8.4 ​​/ 7.1 ​​/ 8.1\t8.6 ​​/ 7.3 ​​/ 8.3\t8.6 ​​/ 7.3 ​​/ 8.3\t8.8 ​​/ 7.5 ​​/ 8.5 Stance Setback (mm)\t19\t19\t19\t19\t19\t19\t19 Rider Weight (lbs)\t100-150\t125-175\t130-180\t150-220​​+\t140-190\t160-220​​+\t160-210 Width\tRegular\tRegular\tRegular\tWide\tRegular\tWide\tRegular\n"
     ]
    }
   ],
   "source": [
    "table = input(\"Please submit your ski/snowboard size table\\n\\n\").lower()"
   ]
  },
  {
   "cell_type": "code",
   "execution_count": 86,
   "id": "35a6a7ee",
   "metadata": {},
   "outputs": [
    {
     "name": "stdout",
     "output_type": "stream",
     "text": [
      "Row: size \t151\t154\t157\t158w\t160\t161w\t163 \n",
      "Row: effective edge \t1152\t1177\t1203\t1203\t1215\t1215\t1241 \n",
      "Row: tip width \t293\t296\t299\t310\t301\t313\t305 \n",
      "Row: waist width \t248\t250\t252\t263\t254\t266\t257 \n",
      "Row: tail width \t293\t296\t299\t310\t301\t313\t305 \n",
      "Row: sidecut radius \t8.2 ​​/ 6.9 ​​/ 7.9\t8.3 ​​/ 7 ​​/ 8\t8.5 ​​/ 7.2 ​​/ 8.2\t8.4 ​​/ 7.1 ​​/ 8.1\t8.6 ​​/ 7.3 ​​/ 8.3\t8.6 ​​/ 7.3 ​​/ 8.3\t8.8 ​​/ 7.5 ​​/ 8.5 \n",
      " \t8.2 ​​/ 6.9 ​​/ 7.9\t8.3 ​​/ 7 ​​/ 8\t8.5 ​​/ 7.2 ​​/ 8.2\t8.4 ​​/ 7.1 ​​/ 8.1\t8.6 ​​/ 7.3 ​​/ 8.3\t8.6 ​​/ 7.3 ​​/ 8.3\t8.8 ​​/ 7.5 ​​/ 8.5 \n"
     ]
    }
   ],
   "source": [
    "values = extract_data(table)"
   ]
  },
  {
   "cell_type": "code",
   "execution_count": 87,
   "id": "25871754",
   "metadata": {},
   "outputs": [
    {
     "name": "stdout",
     "output_type": "stream",
     "text": [
      "size:\n",
      "['151', '154', '157', '158w', '160', '161w', '163']\n",
      "\n",
      "\n",
      "nose width:\n",
      "['293', '296', '299', '310', '301', '313', '305']\n",
      "\n",
      "\n",
      "waist width:\n",
      "['248', '250', '252', '263', '254', '266', '257']\n",
      "\n",
      "\n",
      "tail width:\n",
      "['293', '296', '299', '310', '301', '313', '305']\n",
      "\n",
      "\n",
      "sidecut:\n",
      "['8.2', '/', '6.9', '/', '7.9', '8.3', '/', '7', '/', '8', '8.5', '/', '7.2', '/', '8.2', '8.4', '/', '7.1', '/', '8.1', '8.6', '/', '7.3', '/', '8.3', '8.6', '/', '7.3', '/', '8.3', '8.8', '/', '7.5', '/', '8.5']\n",
      "\n",
      "\n",
      "setback:\n",
      "['19', '19', '19', '19', '19', '19', '19']\n",
      "\n",
      "\n",
      "effective edge:\n",
      "['1152', '1177', '1203', '1203', '1215', '1215', '1241']\n",
      "\n",
      "\n"
     ]
    }
   ],
   "source": [
    "for row in values:\n",
    "    print(f\"{row}:\\n{values[row]}\\n\\n\")"
   ]
  },
  {
   "cell_type": "code",
   "execution_count": 29,
   "id": "c4951caa",
   "metadata": {},
   "outputs": [
    {
     "name": "stdout",
     "output_type": "stream",
     "text": [
      "\n",
      "SUCCESS!\n"
     ]
    }
   ],
   "source": [
    "success = save_values(skiboard, values)\n",
    "if success:\n",
    "    print(\"\\nSUCCESS!\")\n",
    "    id_counter += 1"
   ]
  },
  {
   "cell_type": "code",
   "execution_count": null,
   "id": "e215af83",
   "metadata": {},
   "outputs": [],
   "source": []
  },
  {
   "cell_type": "code",
   "execution_count": null,
   "id": "2b3b4b65",
   "metadata": {},
   "outputs": [],
   "source": []
  },
  {
   "cell_type": "code",
   "execution_count": null,
   "id": "b2fe9ff6",
   "metadata": {},
   "outputs": [],
   "source": []
  }
 ],
 "metadata": {
  "kernelspec": {
   "display_name": "Python 3 (ipykernel)",
   "language": "python",
   "name": "python3"
  },
  "language_info": {
   "codemirror_mode": {
    "name": "ipython",
    "version": 3
   },
   "file_extension": ".py",
   "mimetype": "text/x-python",
   "name": "python",
   "nbconvert_exporter": "python",
   "pygments_lexer": "ipython3",
   "version": "3.11.2"
  }
 },
 "nbformat": 4,
 "nbformat_minor": 5
}
