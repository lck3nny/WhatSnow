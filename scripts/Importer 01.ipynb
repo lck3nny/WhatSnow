{
 "cells": [
  {
   "cell_type": "markdown",
   "id": "529addf6",
   "metadata": {},
   "source": [
    "# Imports\n",
    "---\n",
    "Import new skis / snowboards to an SQL database"
   ]
  },
  {
   "cell_type": "code",
   "execution_count": 452,
   "id": "868cbfc0",
   "metadata": {},
   "outputs": [],
   "source": [
    "import json\n",
    "import pymysql\n",
    "import re"
   ]
  },
  {
   "cell_type": "code",
   "execution_count": 453,
   "id": "24009bf8",
   "metadata": {},
   "outputs": [],
   "source": [
    "# Database Setup\n",
    "# --------------------------------------------------\n",
    "def setupdb():\n",
    "    f = open('../application/config/localdb_config.json')\n",
    "    dbconfig = json.loads(f.read())\n",
    "    db = pymysql.connect(host=dbconfig['localhost'], user=dbconfig['username'], password=dbconfig['password'], database=dbconfig['database'])\n",
    "    f.close()\n",
    "    return db"
   ]
  },
  {
   "cell_type": "code",
   "execution_count": 454,
   "id": "d981dd6f",
   "metadata": {},
   "outputs": [],
   "source": [
    "db = setupdb()\n",
    "cursor = db.cursor()"
   ]
  },
  {
   "cell_type": "code",
   "execution_count": 455,
   "id": "1fb87929",
   "metadata": {},
   "outputs": [],
   "source": [
    "params = {\n",
    "    'size': ['size', 'length'],\n",
    "    'nose width': ['nose width', 'tip width'],\n",
    "    'waist width': ['waist width'],\n",
    "    'tail width': ['tail width'],\n",
    "    'sidecut': ['sidecut radius', 'turning radius', 'radius', 'sidecut'],\n",
    "    'setback': ['stance setback', 'setback'],\n",
    "    'effective edge': ['effective edge', 'running length']\n",
    "}"
   ]
  },
  {
   "cell_type": "code",
   "execution_count": 456,
   "id": "7bc47c30",
   "metadata": {},
   "outputs": [],
   "source": [
    "values = {\n",
    "    'size': '',\n",
    "    'nose width': '',\n",
    "    'waist width': '',\n",
    "    'tail width': '',\n",
    "    'sidecut': '',\n",
    "    'setback': '',\n",
    "    'effective edge': ''\n",
    "}"
   ]
  },
  {
   "cell_type": "code",
   "execution_count": 457,
   "id": "ceaddc05",
   "metadata": {},
   "outputs": [],
   "source": [
    "# Extraction of data \n",
    "# from string format to a tabular structure\n",
    "# --------------------------------------------------\n",
    "def extract_data(table):\n",
    "    # Remove units from headings\n",
    "    while ')' in table:\n",
    "        table = table[:table.find('(')] + table[table.find(')') + 1:]\n",
    "        \n",
    "    breakpoints = []\n",
    "    \n",
    "    # Find location of headings in table\n",
    "    for i in params:\n",
    "        row = []\n",
    "        for j in params[i]:\n",
    "            if j in table:\n",
    "                breakpoints.append(table.find(j))\n",
    "                break\n",
    "        \n",
    "        values[i] = row\n",
    "        \n",
    "    # Extract table data into rows\n",
    "    rows = []\n",
    "    breakpoints.sort()\n",
    "    for i, b in enumerate(breakpoints):\n",
    "        if i > 0:\n",
    "            rows.append(table[breakpoints[i-1]:b])\n",
    "        if i == len(breakpoints) -1:\n",
    "            rows.append(table[b:])\n",
    "    \n",
    "    \n",
    "    # Remove lables from rows\n",
    "    for row in rows:\n",
    "        for i in params:\n",
    "            for j in params[i]:\n",
    "                if j in row:\n",
    "                    values[i] = row.replace(j, '')\n",
    "                    break\n",
    "                    \n",
    "    \n",
    "    # Format table rows as lists\n",
    "    for val in values:\n",
    "        try:\n",
    "            values[val] = values[val].strip()\n",
    "            values[val] = values[val].split()   \n",
    "        except Exception as e:\n",
    "            x = e\n",
    "            \n",
    "    \n",
    "    # Truncate long rows to the correct size\n",
    "    num_sizes = len(values['size'])\n",
    "    for val in values:\n",
    "        values[val] = values[val][:num_sizes]\n",
    "        \n",
    "    return values"
   ]
  },
  {
   "cell_type": "code",
   "execution_count": 458,
   "id": "5b0cacf8",
   "metadata": {},
   "outputs": [],
   "source": [
    "# Save skiboard in MySQL DB\n",
    "# --------------------------------------------------\n",
    "def save_skiboard(skiboard):\n",
    "    try:\n",
    "        sql = f\"\"\"INSERT INTO skiboards (\n",
    "            url,\n",
    "            brand,\n",
    "            model,\n",
    "            year,\n",
    "            name,\n",
    "            slug,\n",
    "            category,\n",
    "            family,\n",
    "            description,\n",
    "            stiffness,\n",
    "            flex_profile,\n",
    "            camber_profile,\n",
    "            camber_details,\n",
    "            core,\n",
    "            laminates,\n",
    "            base,\n",
    "            weight,\n",
    "            youth\n",
    "        ) VALUES (\n",
    "            '{skiboard['url']}',\n",
    "            '{skiboard['brand']}',\n",
    "            '{skiboard['model']}',\n",
    "            '{skiboard['year']}',\n",
    "            '{str(skiboard['brand']).capitalize()} {str(skiboard['model']).capitalize()} {str(skiboard['year'])}',\n",
    "            '{str(skiboard['brand']).lower()}-{str(skiboard['model']).lower()}-{str(skiboard['year'])}',\n",
    "            '{skiboard['category']}',\n",
    "            '{skiboard['family']}',\n",
    "            '{skiboard['description']}',\n",
    "            '{skiboard['stiffness']}',\n",
    "            '{skiboard['flex_profile']}',\n",
    "            '{skiboard['camber_profile']}',\n",
    "            '{skiboard['camber_details']}',\n",
    "            '{skiboard['core']}',\n",
    "            '{skiboard['laminates']}',\n",
    "            '{skiboard['base']}',\n",
    "            '{skiboard['weight']}',\n",
    "            '{skiboard['youth']}'\n",
    "        )\"\"\"\n",
    "        cursor.execute(sql)\n",
    "        db.commit()\n",
    "    except Exception as e:\n",
    "        print(f\"ERROR:\\n{e}\")"
   ]
  },
  {
   "cell_type": "code",
   "execution_count": 480,
   "id": "54e7bd0e",
   "metadata": {},
   "outputs": [],
   "source": [
    "# Save data in MySQL DB\n",
    "# --------------------------------------------------\n",
    "def save_values(skiboard, values):\n",
    "    print(f\"Importing...\\n{str(skiboard['brand']).capitalize()} {str(skiboard['model']).capitalize()} {str(skiboard['year'])}\\nValues:\\n{values}\")\n",
    "\n",
    "    for x in range(len(values['size'])):\n",
    "        try:\n",
    "            sql = f\"\"\"REPLACE INTO sizes (\n",
    "                skiboard_id,\n",
    "                size,\n",
    "                nose_width,\n",
    "                waist_width,\n",
    "                tail_width,\n",
    "                sidecut,\n",
    "                setback,\n",
    "                effective_edge\n",
    "            ) VALUES (\n",
    "                '{skiboard['id']}',\n",
    "                '{values['size'][x]}',\n",
    "                '{values['nose width'][x]}',\n",
    "                '{values['waist width'][x]}',\n",
    "                '{values['tail width'][x]}',\n",
    "                '{values['sidecut'][x]}',\n",
    "                '{values['setback'][x]}',\n",
    "                '{values['effective edge'][x]}'\n",
    "            )\"\"\"\n",
    "\n",
    "            cursor.execute(sql)\n",
    "            db.commit()\n",
    "        except Exception as e:\n",
    "            print(f\"ERROR: size ({values['size'][x]})\\n{e}\\n\")\n",
    "    \n",
    "    return True"
   ]
  },
  {
   "cell_type": "markdown",
   "id": "074a94b0",
   "metadata": {},
   "source": [
    "# Create New SkiBoard\n",
    "---"
   ]
  },
  {
   "cell_type": "code",
   "execution_count": 481,
   "id": "44529c13",
   "metadata": {},
   "outputs": [],
   "source": [
    "skiboard = {\n",
    "    'id': 21,\n",
    "    'url': '',\n",
    "    'brand': 'Burton',\n",
    "    'model': 'Leader Board',\n",
    "    'year': 2020,\n",
    "    'category': 'Snowboard',\n",
    "    'family': 'Family Tree',\n",
    "    'description': \"Made to excel on the Freeride World Tour, the Burton Family Tree Leader Board Snowboard brings confidence and stability to sketchy situations. From the slightly spooned nose to minimize edge catch in no-fall zones, to the aggressive flex that'll hold on when the snow doesn't, to a perfect taper that keeps the nose up without turning this board into a whimsical wiggler: the Leader Board is the one you want under your feet when the going gets marginal. This one's high strung and responsive because it has to be.\".replace(\"'\", \"`\"),\n",
    "    'stiffness': 8,\n",
    "    'flex_profile': 'Directional',\n",
    "    'camber_profile': 'Directional Camber',\n",
    "    'camber_details': '',\n",
    "    'core': 'Super Fly II™ 700G Core',\n",
    "    'laminates': 'Carbon I-Beam',\n",
    "    'base': 'Recycled Sintered WFO',\n",
    "    'weight': 0,\n",
    "    'youth': 0\n",
    "}"
   ]
  },
  {
   "cell_type": "code",
   "execution_count": 482,
   "id": "e3153e8f",
   "metadata": {},
   "outputs": [],
   "source": [
    "save_skiboard(skiboard)"
   ]
  },
  {
   "cell_type": "markdown",
   "id": "3f00a0bc",
   "metadata": {},
   "source": [
    "# Add Sizes to SkiBoard\n",
    "---"
   ]
  },
  {
   "cell_type": "code",
   "execution_count": 483,
   "id": "5db38832",
   "metadata": {},
   "outputs": [
    {
     "name": "stdout",
     "output_type": "stream",
     "text": [
      "Please submit your ski/snowboard size table\n",
      "\n",
      "Size (cm)\t158\t162\t166 Effective Edge (mm)\t1215\t1255\t1260 Tip Width (mm)\t295\t299.4\t305.7 Waist Width (mm)\t252\t255\t260 Tail Width (mm)\t285\t289.4\t295.7 Sidecut Radius (m)\t8.6\t8.8\t9.2 Stance Setback (mm)\t25\t25\t25 Rider Weight (lbs)\t150 - 200\t180 - 260​+\t180 - 260​+ Width\tRegular\tRegular\tRegular\n"
     ]
    }
   ],
   "source": [
    "table = input(\"Please submit your ski/snowboard size table\\n\\n\").lower()"
   ]
  },
  {
   "cell_type": "code",
   "execution_count": 484,
   "id": "6049dd0a",
   "metadata": {},
   "outputs": [],
   "source": [
    "values = extract_data(table)"
   ]
  },
  {
   "cell_type": "code",
   "execution_count": 485,
   "id": "ff88f647",
   "metadata": {},
   "outputs": [
    {
     "name": "stdout",
     "output_type": "stream",
     "text": [
      "size:\n",
      "['158', '162', '166']\n",
      "\n",
      "\n",
      "nose width:\n",
      "['295', '299.4', '305.7']\n",
      "\n",
      "\n",
      "waist width:\n",
      "['252', '255', '260']\n",
      "\n",
      "\n",
      "tail width:\n",
      "['285', '289.4', '295.7']\n",
      "\n",
      "\n",
      "sidecut:\n",
      "['8.6', '8.8', '9.2']\n",
      "\n",
      "\n",
      "setback:\n",
      "['25', '25', '25']\n",
      "\n",
      "\n",
      "effective edge:\n",
      "['1215', '1255', '1260']\n",
      "\n",
      "\n"
     ]
    }
   ],
   "source": [
    "for row in values:\n",
    "    print(f\"{row}:\\n{values[row]}\\n\\n\")"
   ]
  },
  {
   "cell_type": "code",
   "execution_count": 486,
   "id": "c2d74831",
   "metadata": {},
   "outputs": [
    {
     "name": "stdout",
     "output_type": "stream",
     "text": [
      "Importing...\n",
      "Burton Leader board 2020\n",
      "Values:\n",
      "{'size': ['158', '162', '166'], 'nose width': ['295', '299.4', '305.7'], 'waist width': ['252', '255', '260'], 'tail width': ['285', '289.4', '295.7'], 'sidecut': ['8.6', '8.8', '9.2'], 'setback': ['25', '25', '25'], 'effective edge': ['1215', '1255', '1260']}\n",
      "SUCCESS!\n"
     ]
    }
   ],
   "source": [
    "success = save_values(skiboard, values)\n",
    "if success:\n",
    "    print(\"SUCCESS!\")"
   ]
  },
  {
   "cell_type": "code",
   "execution_count": null,
   "id": "166a92ee",
   "metadata": {},
   "outputs": [],
   "source": []
  },
  {
   "cell_type": "code",
   "execution_count": null,
   "id": "378e19e4",
   "metadata": {},
   "outputs": [],
   "source": []
  }
 ],
 "metadata": {
  "kernelspec": {
   "display_name": "Python 3 (ipykernel)",
   "language": "python",
   "name": "python3"
  },
  "language_info": {
   "codemirror_mode": {
    "name": "ipython",
    "version": 3
   },
   "file_extension": ".py",
   "mimetype": "text/x-python",
   "name": "python",
   "nbconvert_exporter": "python",
   "pygments_lexer": "ipython3",
   "version": "3.11.2"
  }
 },
 "nbformat": 4,
 "nbformat_minor": 5
}
