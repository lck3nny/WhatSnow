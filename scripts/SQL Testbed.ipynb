{
 "cells": [
  {
   "cell_type": "code",
   "execution_count": 1,
   "id": "c8b57c95",
   "metadata": {},
   "outputs": [],
   "source": [
    "import json\n",
    "import pymysql\n"
   ]
  },
  {
   "cell_type": "code",
   "execution_count": 4,
   "id": "3436245e",
   "metadata": {},
   "outputs": [],
   "source": [
    "# Database Setup\n",
    "# --------------------------------------------------\n",
    "def setupdb():\n",
    "    f = open('../application/config/localdb_config.json')\n",
    "    dbconfig = json.loads(f.read())\n",
    "    db = pymysql.connect(host=dbconfig['localhost'], user=dbconfig['username'], password=dbconfig['password'], database=dbconfig['database'])\n",
    "    f.close()\n",
    "    return db"
   ]
  },
  {
   "cell_type": "markdown",
   "id": "7290fe14",
   "metadata": {},
   "source": [
    "## User Class\n",
    "---"
   ]
  },
  {
   "cell_type": "code",
   "execution_count": 36,
   "id": "9c863966",
   "metadata": {},
   "outputs": [],
   "source": [
    "class User:\n",
    "    def __init__(self, userid, fname, lname, email, ski=0, snowboard=0, stance=None, permissions=[], region=None, photo=None):\n",
    "        self.id = userid\n",
    "        self.fname = fname\n",
    "        self.lname = lname\n",
    "        self.email = email\n",
    "        self.ski = ski\n",
    "        self.snowboard = snowboard\n",
    "        self.stance = stance\n",
    "        self.permissions = permissions\n",
    "        self.region = region\n",
    "        self.photo = photo\n",
    "\n",
    "\n",
    "    # --------------------------------------------------\n",
    "    # Create New User                    F U N C T I O N\n",
    "    # --------------------------------------------------\n",
    "    def save(self):\n",
    "        db = setupdb()\n",
    "        cursor = db.cursor()\n",
    "        try:\n",
    "            sql = \"\"\"insert into 'Users' (user_id, fname, lname, email, ski, snowboard, stance, region, permissions, created, updated, photo)\n",
    "                values ({}, {}, {}, {}, {}, {}, {}, {}))\n",
    "            \"\"\".format(self.id, self.fname, self.lname, self.email, \n",
    "                       self.ski, self.snowboard, self.stance, self.region, '~'.join(self.permissions), \n",
    "                       datetime.now(pytz.timezone('Canada/Pacific')), datetime.now(pytz.timezone('Canada/Pacific')),\n",
    "                       self.photo)\n",
    "            cursor.execute(sql)\n",
    "            db.commit()\n",
    "            #self.id = cursor.execute(\"SELECT last_insert_rowid() FROM songs\").fetchone()[0]\n",
    "             \n",
    "        except Exception as e:\n",
    "            print(\"Could not create new user:\\n{}\".format(e))   \n",
    "            return False\n",
    "\n",
    "        print(\"Created New User:\\n{} {} ~ {}\\nPermissions: {}\\nSki: {} Snowboard: ({})\\n{}Region: {}\"\n",
    "                     .format(self.fname, self.lname, self.email, ', '.join(self.permissions), self.ski, self.snowboard, self.stance, self.region))\n",
    "\n",
    "        return True\n",
    "    \n",
    "\n",
    "    # ToDo...\n",
    "    # Return User object\n",
    "    # --------------------------------------------------\n",
    "    # Get User                           F U N C T I O N\n",
    "    # --------------------------------------------------\n",
    "    @classmethod\n",
    "    def get(cls, id=None, email=None):\n",
    "\n",
    "        db = setupdb()\n",
    "        cursor = db.cursor()\n",
    "\n",
    "        # Get user by ID\n",
    "        if id:\n",
    "            try:\n",
    "                print(\"Getting user from ID: {}\".format(id))\n",
    "                sql = \"\"\"SELECT * FROM Users WHERE user_id = '{}'\"\"\".format(id)\n",
    "                cursor.execute(sql)\n",
    "                result = cursor.fetchone()\n",
    "                print(\"Result: {}\".format(result))\n",
    "            \n",
    "            except Exception as e:\n",
    "                print(e)\n",
    "\n",
    "        # Get user by email\n",
    "        elif email:\n",
    "            try:\n",
    "                print(\"Getting user from EMAIL: {}\".format(email))\n",
    "                sql = \"\"\"SELECT * FROM Users WHERE email = '{}'\"\"\".format(email)\n",
    "                cursor.execute(sql)\n",
    "                result = cursor.fetchone()\n",
    "                print(\"Result: {}\".format(result))\n",
    "\n",
    "            except Exception as e:\n",
    "                print(e)\n",
    "\n",
    "        if not result:\n",
    "            print(\"EMPTY\")\n",
    "            return None\n",
    "                \n",
    "        # Map DB Result to User Object\n",
    "        user = User(\n",
    "            userid=result[0], \n",
    "            fname=result[1], \n",
    "            lname=result[2], \n",
    "            email=result[3], \n",
    "            ski=result[4], \n",
    "            snowboard=result[5],\n",
    "            stance=result[6],\n",
    "            region=result[7],\n",
    "            permissions=result[8],\n",
    "            photo=result[9],\n",
    "        )\n",
    "        \n",
    "        if user.permissions:\n",
    "            user.permissions = user.permissions.split('~')\n",
    "\n",
    "        return user"
   ]
  },
  {
   "cell_type": "markdown",
   "id": "4cdc87ba",
   "metadata": {},
   "source": [
    "## User Tests\n",
    "---"
   ]
  },
  {
   "cell_type": "code",
   "execution_count": 37,
   "id": "989e37c2",
   "metadata": {},
   "outputs": [
    {
     "name": "stdout",
     "output_type": "stream",
     "text": [
      "Getting user from EMAIL: lck3nny@gmail.com\n",
      "Result: ('GOn89KKWumTycl3uJ3lZwProK5j1', 'Liam', 'Kenny', 'lck3nny@gmail.com', None, None, None, None, None, datetime.datetime(2023, 12, 19, 16, 17, 46), datetime.datetime(2023, 12, 19, 16, 17, 46), None)\n"
     ]
    }
   ],
   "source": [
    "liam = User.get(email='lck3nny@gmail.com')"
   ]
  },
  {
   "cell_type": "code",
   "execution_count": 39,
   "id": "ef0fb4b4",
   "metadata": {},
   "outputs": [
    {
     "name": "stdout",
     "output_type": "stream",
     "text": [
      "Liam\n"
     ]
    }
   ],
   "source": []
  },
  {
   "cell_type": "code",
   "execution_count": null,
   "id": "dc0d69b6",
   "metadata": {},
   "outputs": [],
   "source": []
  }
 ],
 "metadata": {
  "kernelspec": {
   "display_name": "Python 3 (ipykernel)",
   "language": "python",
   "name": "python3"
  },
  "language_info": {
   "codemirror_mode": {
    "name": "ipython",
    "version": 3
   },
   "file_extension": ".py",
   "mimetype": "text/x-python",
   "name": "python",
   "nbconvert_exporter": "python",
   "pygments_lexer": "ipython3",
   "version": "3.11.2"
  }
 },
 "nbformat": 4,
 "nbformat_minor": 5
}
