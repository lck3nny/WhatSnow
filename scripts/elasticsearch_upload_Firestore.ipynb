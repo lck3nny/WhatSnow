{
 "cells": [
  {
   "cell_type": "markdown",
   "id": "56f1294c",
   "metadata": {},
   "source": [
    "# ElasticSearch Upload\n",
    "---\n",
    "- Connect to Bonsai ES client\n",
    "- Create cluster / shards if non existant \n",
    "- Add alias to cluser \n",
    "- Connect to Firestore\n",
    "- Extract SkiBoards from Firestore\n",
    "- Format / Validate SkiBoard objects\n",
    "- Upload data to ElasticSearch"
   ]
  },
  {
   "cell_type": "code",
   "execution_count": 3,
   "id": "bbd6da51",
   "metadata": {},
   "outputs": [
    {
     "ename": "ImportError",
     "evalue": "cannot import name 'ElasticsearchWarning' from 'elasticsearch.exceptions' (/Library/Frameworks/Python.framework/Versions/3.11/lib/python3.11/site-packages/elasticsearch/exceptions.py)",
     "output_type": "error",
     "traceback": [
      "\u001b[0;31m---------------------------------------------------------------------------\u001b[0m",
      "\u001b[0;31mImportError\u001b[0m                               Traceback (most recent call last)",
      "Cell \u001b[0;32mIn[3], line 6\u001b[0m\n\u001b[1;32m      3\u001b[0m \u001b[38;5;28;01mimport\u001b[39;00m \u001b[38;5;21;01mjson\u001b[39;00m\n\u001b[1;32m      4\u001b[0m \u001b[38;5;28;01mimport\u001b[39;00m \u001b[38;5;21;01mdatetime\u001b[39;00m\n\u001b[0;32m----> 6\u001b[0m \u001b[38;5;28;01mfrom\u001b[39;00m \u001b[38;5;21;01melasticsearch\u001b[39;00m \u001b[38;5;28;01mimport\u001b[39;00m Elasticsearch\n\u001b[1;32m      7\u001b[0m \u001b[38;5;28;01mfrom\u001b[39;00m \u001b[38;5;21;01melasticsearch\u001b[39;00m\u001b[38;5;21;01m.\u001b[39;00m\u001b[38;5;21;01mclient\u001b[39;00m \u001b[38;5;28;01mimport\u001b[39;00m IndicesClient\n\u001b[1;32m      8\u001b[0m \u001b[38;5;28;01mfrom\u001b[39;00m \u001b[38;5;21;01melasticsearch\u001b[39;00m\u001b[38;5;21;01m.\u001b[39;00m\u001b[38;5;21;01mhelpers\u001b[39;00m \u001b[38;5;28;01mimport\u001b[39;00m streaming_bulk\n",
      "File \u001b[0;32m/Library/Frameworks/Python.framework/Versions/3.11/lib/python3.11/site-packages/elasticsearch/__init__.py:41\u001b[0m\n\u001b[1;32m     39\u001b[0m \u001b[38;5;28;01mfrom\u001b[39;00m \u001b[38;5;21;01m.\u001b[39;00m\u001b[38;5;21;01mserializer\u001b[39;00m \u001b[38;5;28;01mimport\u001b[39;00m JSONSerializer\n\u001b[1;32m     40\u001b[0m \u001b[38;5;28;01mfrom\u001b[39;00m \u001b[38;5;21;01m.\u001b[39;00m\u001b[38;5;21;01mconnection\u001b[39;00m \u001b[38;5;28;01mimport\u001b[39;00m Connection, RequestsHttpConnection, Urllib3HttpConnection\n\u001b[0;32m---> 41\u001b[0m \u001b[38;5;28;01mfrom\u001b[39;00m \u001b[38;5;21;01m.\u001b[39;00m\u001b[38;5;21;01mexceptions\u001b[39;00m \u001b[38;5;28;01mimport\u001b[39;00m (\n\u001b[1;32m     42\u001b[0m     ImproperlyConfigured,\n\u001b[1;32m     43\u001b[0m     ElasticsearchException,\n\u001b[1;32m     44\u001b[0m     SerializationError,\n\u001b[1;32m     45\u001b[0m     TransportError,\n\u001b[1;32m     46\u001b[0m     NotFoundError,\n\u001b[1;32m     47\u001b[0m     ConflictError,\n\u001b[1;32m     48\u001b[0m     RequestError,\n\u001b[1;32m     49\u001b[0m     \u001b[38;5;167;01mConnectionError\u001b[39;00m,\n\u001b[1;32m     50\u001b[0m     SSLError,\n\u001b[1;32m     51\u001b[0m     ConnectionTimeout,\n\u001b[1;32m     52\u001b[0m     AuthenticationException,\n\u001b[1;32m     53\u001b[0m     AuthorizationException,\n\u001b[1;32m     54\u001b[0m     ElasticsearchWarning,\n\u001b[1;32m     55\u001b[0m     ElasticsearchDeprecationWarning,\n\u001b[1;32m     56\u001b[0m )\n\u001b[1;32m     58\u001b[0m \u001b[38;5;66;03m# Only raise one warning per deprecation message so as not\u001b[39;00m\n\u001b[1;32m     59\u001b[0m \u001b[38;5;66;03m# to spam up the user if the same action is done multiple times.\u001b[39;00m\n\u001b[1;32m     60\u001b[0m warnings\u001b[38;5;241m.\u001b[39msimplefilter(\u001b[38;5;124m\"\u001b[39m\u001b[38;5;124mdefault\u001b[39m\u001b[38;5;124m\"\u001b[39m, category\u001b[38;5;241m=\u001b[39mElasticsearchDeprecationWarning, append\u001b[38;5;241m=\u001b[39m\u001b[38;5;28;01mTrue\u001b[39;00m)\n",
      "\u001b[0;31mImportError\u001b[0m: cannot import name 'ElasticsearchWarning' from 'elasticsearch.exceptions' (/Library/Frameworks/Python.framework/Versions/3.11/lib/python3.11/site-packages/elasticsearch/exceptions.py)"
     ]
    }
   ],
   "source": [
    "# https://docs.bonsai.io/article/102-python\n",
    "import io, sys, os, base64, re, logging\n",
    "import json\n",
    "import datetime\n",
    "\n",
    "from elasticsearch import Elasticsearch\n",
    "from elasticsearch.client import IndicesClient\n",
    "from elasticsearch.helpers import streaming_bulk\n",
    "\n",
    "import firebase_admin\n",
    "from firebase_admin import credentials, firestore"
   ]
  },
  {
   "cell_type": "markdown",
   "id": "aa03d2f9",
   "metadata": {},
   "source": [
    "## Connect to Firestore"
   ]
  },
  {
   "cell_type": "code",
   "execution_count": 21,
   "id": "24fb4754",
   "metadata": {},
   "outputs": [],
   "source": [
    "# Inititalise Firebase connection\n",
    "try:\n",
    "    firebase_cred = credentials.Certificate(sys.path[0] + '/../application/config/firebase_service_account_key.json')\n",
    "    firebase_admin.initialize_app(firebase_cred)\n",
    "except:\n",
    "    firebase_admin.get_app()"
   ]
  },
  {
   "cell_type": "code",
   "execution_count": 22,
   "id": "a6146bcd",
   "metadata": {},
   "outputs": [],
   "source": [
    "db = firestore.client()"
   ]
  },
  {
   "cell_type": "markdown",
   "id": "d6a36499",
   "metadata": {},
   "source": [
    "## Collect all SkiBoards from Firestore"
   ]
  },
  {
   "cell_type": "code",
   "execution_count": 23,
   "id": "d3f69c47",
   "metadata": {},
   "outputs": [
    {
     "name": "stdout",
     "output_type": "stream",
     "text": [
      "Extracting... Burton HometownHeroSplit (2023)\n",
      "{'id': '0Rn7K21ipoWG6ZsJYWwc', 'slug': 'burton-hometownherosplit-2023', 'year': 2023, 'category': 'Snowboard', 'model': 'HometownHeroSplit', 'updated': DatetimeWithNanoseconds(2023, 5, 5, 1, 23, 45, 599581, tzinfo=datetime.timezone.utc), 'created': DatetimeWithNanoseconds(2023, 5, 5, 1, 23, 45, 599534, tzinfo=datetime.timezone.utc), 'author': '7aLK5kOucZVIJ2EiXZlj', 'brand': 'Burton', 'name': 'Burton HometownHeroSplit 2023', 'sizes': []}\n",
      "Extracting... YES BasicWomens (2023)\n",
      "{'id': 'Cg2ACYTvkdYoPXJDinDe', 'slug': 'yes-basicwomens-2023', 'year': 2023, 'asym': False, 'profile': 'Hybrid Camber', 'category': 'Snowboard', 'model': 'BasicWomens', 'updated': DatetimeWithNanoseconds(2023, 4, 25, 20, 21, 56, 471555, tzinfo=datetime.timezone.utc), 'created': DatetimeWithNanoseconds(2023, 4, 25, 20, 21, 30, 814415, tzinfo=datetime.timezone.utc), 'author': '7aLK5kOucZVIJ2EiXZlj', 'brand': 'YES', 'flex': '5', 'name': 'YES BasicWomens 2023', 'sizes': [{'size': '143', 'waist_width': '237', 'effective_edge': '1090', 'tail_width': '280.7', 'nose_width': '280.7'}, {'size': '146', 'waist_width': '239', 'effective_edge': '1115', 'tail_width': '283.4', 'nose_width': '283.4'}, {'size': '149', 'waist_width': '241', 'effective_edge': '1140', 'tail_width': '286', 'nose_width': '286'}, {'size': '152', 'waist_width': '243', 'effective_edge': '1165', 'tail_width': '287.3', 'nose_width': '287.3'}]}\n",
      "Extracting... Burton Custom (2022)\n",
      "{'id': 'aKp4DxKF0ULbYQ33BLL3', 'slug': 'burton-custom-2022', 'year': 2022, 'asym': False, 'profile': 'Full Camber', 'category': 'Snowboard', 'model': 'Custom', 'updated': DatetimeWithNanoseconds(2023, 4, 14, 16, 50, 26, 28200, tzinfo=datetime.timezone.utc), 'created': DatetimeWithNanoseconds(2023, 4, 13, 18, 52, 59, 891975, tzinfo=datetime.timezone.utc), 'author': '7aLK5kOucZVIJ2EiXZlj', 'brand': 'Burton', 'flex': '6', 'name': 'Burton Custom 2022', 'sizes': [{'size': '150', 'effective_edge': '1135', 'stance_width': '505', 'setback': '12.5', 'nose_width': '288.1', 'tail_width': '288.1', 'sidecut': '7.4', 'waist_width': '248'}, {'size': '154', 'effective_edge': '1175', 'stance_width': '530', 'setback': '12.5', 'nose_width': '291.5', 'tail_width': '291.5', 'sidecut': '7.6', 'waist_width': '250'}, {'size': '154W', 'effective_edge': '1175', 'stance_width': '530', 'setback': '12.5', 'nose_width': '299.5', 'tail_width': '299.5', 'sidecut': '7.6', 'waist_width': '258'}, {'size': '156', 'effective_edge': '1195', 'stance_width': '560', 'setback': '12.5', 'nose_width': '294.3', 'tail_width': '294.3', 'sidecut': '7.8', 'waist_width': '252'}, {'size': '158', 'effective_edge': '1215', 'stance_width': '560', 'setback': '12.5', 'nose_width': '297', 'tail_width': '297', 'sidecut': '7.9', 'waist_width': '254'}, {'size': '158W', 'effective_edge': '12151255', 'stance_width': '560', 'setback': '12.5', 'nose_width': '305', 'tail_width': '305', 'sidecut': '7.9', 'waist_width': '262'}, {'size': '162', 'effective_edge': '1255', 'stance_width': '560', 'setback': '12.5', 'nose_width': '300.5', 'tail_width': '300.5', 'sidecut': '8.2', 'waist_width': '256'}, {'size': '162W', 'effective_edge': '1255', 'stance_width': '560', 'setback': '12.5', 'nose_width': '308.5', 'tail_width': '308.5', 'sidecut': '8.2', 'waist_width': '264'}, {'size': '166W', 'effective_edge': '1295', 'stance_width': '560', 'setback': '12.5', 'nose_width': '312', 'tail_width': '312', 'sidecut': '8.4', 'waist_width': '266'}, {'size': '170W', 'effective_edge': '1335', 'stance_width': '560', 'setback': '12.5', 'nose_width': '317.4', 'tail_width': '317.4', 'sidecut': '8.7', 'waist_width': '271'}]}\n",
      "Extracting... Capita DOA (2022)\n",
      "{'id': 'z1BK2wQDQ8cyAVZhQMXu', 'slug': 'capita-doa-2022', 'year': 2022, 'asym': False, 'profile': 'Hybrid Camber', 'category': 'Snowboard', 'model': 'DOA', 'updated': DatetimeWithNanoseconds(2023, 4, 20, 3, 19, 46, 131310, tzinfo=datetime.timezone.utc), 'created': DatetimeWithNanoseconds(2023, 4, 20, 3, 10, 48, 17066, tzinfo=datetime.timezone.utc), 'author': '7aLK5kOucZVIJ2EiXZlj', 'brand': 'Capita', 'flex': '5.5', 'name': 'Capita DOA 2022', 'sizes': [{'size': '148', 'effective_edge': '1176', 'stance_width': '24.2', 'setback': '0', 'nose_width': '287', 'tail_width': '287', 'sidecut': '7.6', 'waist_width': '244'}, {'size': '150', 'effective_edge': '1191', 'stance_width': '24.2', 'setback': '0', 'nose_width': '290', 'tail_width': '290', 'sidecut': '7.7', 'waist_width': '246'}, {'size': '152', 'effective_edge': '1207', 'stance_width': '25.2', 'setback': '0', 'nose_width': '292', 'tail_width': '292', 'sidecut': '7.8', 'waist_width': '248'}, {'size': '153W', 'effective_edge': '1185', 'stance_width': '25.2', 'setback': '0', 'nose_width': '299', 'tail_width': '299', 'sidecut': '8', 'waist_width': '256'}, {'size': '154', 'effective_edge': '1222', 'stance_width': '25.2', 'setback': '0', 'nose_width': '295', 'tail_width': '295', 'sidecut': '7.9', 'waist_width': '250'}, {'size': '155W', 'effective_edge': '1205', 'stance_width': '25.2', 'setback': '0', 'nose_width': '302', 'tail_width': '302', 'sidecut': '8.1', 'waist_width': '258'}, {'size': '156', 'effective_edge': '1233', 'stance_width': '25.2', 'setback': '0', 'nose_width': '298', 'tail_width': '298', 'sidecut': '8', 'waist_width': '252'}, {'size': '157W', 'effective_edge': '1239', 'stance_width': '26.2', 'setback': '0', 'nose_width': '305', 'tail_width': '305', 'sidecut': '8.1', 'waist_width': '260'}, {'size': '158', 'effective_edge': '1256', 'stance_width': '26.2', 'setback': '0', 'nose_width': '300', 'tail_width': '300', 'sidecut': '8.1', 'waist_width': '254'}, {'size': '159W', 'effective_edge': '1259', 'stance_width': '26.2', 'setback': '0', 'nose_width': '307', 'tail_width': '307', 'sidecut': '8.2', 'waist_width': '261'}, {'size': '160', 'effective_edge': '1270', 'stance_width': '26.2', 'setback': '0', 'nose_width': '304', 'tail_width': '304', 'sidecut': '8.2', 'waist_width': '257'}, {'size': '161W', 'effective_edge': '1280', 'stance_width': '26.2', 'setback': '0', 'nose_width': '309', 'tail_width': '309', 'sidecut': '8.3', 'waist_width': '262'}, {'size': '162', 'effective_edge': '1287', 'stance_width': '26.2', 'setback': '0', 'nose_width': '306', 'tail_width': '306', 'sidecut': '8.3', 'waist_width': '259'}, {'size': '163W', 'effective_edge': '1294', 'stance_width': '26.2', 'setback': '0', 'nose_width': '311', 'tail_width': '311', 'sidecut': '8.4', 'waist_width': '263'}, {'size': '164', 'effective_edge': '1301', 'stance_width': '26.2', 'setback': '0', 'nose_width': '309', 'tail_width': '309', 'sidecut': '8.4', 'waist_width': '261'}]}\n"
     ]
    }
   ],
   "source": [
    "docs = db.collection('SkiBoards').stream()\n",
    "skiboards = []\n",
    "\n",
    "for doc in docs:\n",
    "    doc_id = doc.id\n",
    "    doc = doc.to_dict()\n",
    "\n",
    "    skiboard = {\n",
    "        'id': doc_id\n",
    "    }\n",
    "    print('Extracting... {} {} ({})'.format(doc['brand'], doc['model'], doc['year']))\n",
    "    for key in doc:\n",
    "        skiboard[key] = doc[key]\n",
    "        \n",
    "    sizes = []\n",
    "    collection_docs = db.collection('SkiBoards').document(doc_id).collection('Sizes').get()\n",
    "    for collection in collection_docs:\n",
    "        size = {\n",
    "            'size': collection.id\n",
    "        }\n",
    "        collection = collection.to_dict()\n",
    "        for detail in collection:\n",
    "            size[detail] = collection[detail]\n",
    "                \n",
    "        sizes.append(size)\n",
    "        \n",
    "    skiboard['sizes'] = sizes\n",
    "    skiboards.append(skiboard)\n",
    "    \n",
    "    print(skiboard)"
   ]
  },
  {
   "cell_type": "code",
   "execution_count": 24,
   "id": "70f7848e",
   "metadata": {},
   "outputs": [
    {
     "name": "stdout",
     "output_type": "stream",
     "text": [
      "Extracted 4 SkiBoards\n",
      "\n",
      "{'id': '0Rn7K21ipoWG6ZsJYWwc', 'slug': 'burton-hometownherosplit-2023', 'year': 2023, 'category': 'Snowboard', 'model': 'HometownHeroSplit', 'updated': DatetimeWithNanoseconds(2023, 5, 5, 1, 23, 45, 599581, tzinfo=datetime.timezone.utc), 'created': DatetimeWithNanoseconds(2023, 5, 5, 1, 23, 45, 599534, tzinfo=datetime.timezone.utc), 'author': '7aLK5kOucZVIJ2EiXZlj', 'brand': 'Burton', 'name': 'Burton HometownHeroSplit 2023', 'sizes': []}\n"
     ]
    }
   ],
   "source": [
    "print('Extracted {} SkiBoards\\n'.format(len(skiboards)))\n",
    "print(skiboards[0])"
   ]
  },
  {
   "cell_type": "markdown",
   "id": "947950a4",
   "metadata": {},
   "source": [
    "## Connect to ElasticSearch"
   ]
  },
  {
   "cell_type": "code",
   "execution_count": 25,
   "id": "2ee913cd",
   "metadata": {},
   "outputs": [],
   "source": [
    "f = open(sys.path[0] + '/../application/config/bonsai_config.json')"
   ]
  },
  {
   "cell_type": "code",
   "execution_count": 26,
   "id": "1bf31929",
   "metadata": {},
   "outputs": [],
   "source": [
    "es_config = json.load(f)"
   ]
  },
  {
   "cell_type": "code",
   "execution_count": 27,
   "id": "5278c863",
   "metadata": {},
   "outputs": [],
   "source": [
    "es_endpoint = es_config['url']\n",
    "es_user = es_config['key']\n",
    "es_password = es_config['secret']"
   ]
  },
  {
   "cell_type": "code",
   "execution_count": 28,
   "id": "d43840ef",
   "metadata": {},
   "outputs": [],
   "source": [
    "es_client = Elasticsearch([es_endpoint], basic_auth=(es_user, es_password))"
   ]
  },
  {
   "cell_type": "code",
   "execution_count": 29,
   "id": "7e083c98",
   "metadata": {},
   "outputs": [
    {
     "name": "stdout",
     "output_type": "stream",
     "text": [
      "New Index: skiboards-2023-10-05 AKA: skiboards\n"
     ]
    }
   ],
   "source": [
    "new_index_name = \"skiboards-{}\".format(datetime.date.today())\n",
    "alias = \"skiboards\"\n",
    "print(\"New Index: \" + new_index_name + \" AKA: \" + alias)"
   ]
  },
  {
   "cell_type": "code",
   "execution_count": 30,
   "id": "dc720cee",
   "metadata": {},
   "outputs": [],
   "source": [
    "idx_manager = IndicesClient(es_client)"
   ]
  },
  {
   "cell_type": "code",
   "execution_count": 31,
   "id": "79149cf0",
   "metadata": {},
   "outputs": [],
   "source": [
    "# Create new index\n",
    "try:\n",
    "    idx_manager.create(index=new_index_name)\n",
    "except RequestError:\n",
    "    print(\"Error initializing index manager\")\n",
    "\n",
    "# Add alias to new index\n",
    "try:\n",
    "    idx_manager.put_alias(new_index_name, alias)\n",
    "except:\n",
    "    print(\"Error adding alias to cluster\")"
   ]
  },
  {
   "cell_type": "markdown",
   "id": "7aa6bae4",
   "metadata": {},
   "source": [
    "## Upload Firestore data to ElasticSearch"
   ]
  },
  {
   "cell_type": "code",
   "execution_count": 32,
   "id": "f756c1ab",
   "metadata": {},
   "outputs": [],
   "source": [
    "def generate_update_docs():    \n",
    "    docs = db.collection('SkiBoards').stream()\n",
    "    skiboards = []\n",
    "\n",
    "    for doc in docs:\n",
    "        doc_id = doc.id\n",
    "        doc = doc.to_dict()\n",
    "\n",
    "        skiboard = {\n",
    "            'id': doc_id\n",
    "        }\n",
    "        print('Extracting... {} {} ({})'.format(doc['brand'], doc['model'], doc['year']))\n",
    "        for key in doc:\n",
    "            skiboard[key] = doc[key]\n",
    "\n",
    "        sizes = []\n",
    "        collection_docs = db.collection('SkiBoards').document(doc_id).collection('Sizes').get()\n",
    "        for collection in collection_docs:\n",
    "            size = {\n",
    "                'size': collection.id\n",
    "            }\n",
    "            collection = collection.to_dict()\n",
    "            for detail in collection:\n",
    "                size[detail] = collection[detail]\n",
    "\n",
    "            sizes.append(size)\n",
    "\n",
    "        skiboard['sizes'] = sizes\n",
    "        document = {\n",
    "            '_type': 'document',\n",
    "            '_id': doc_id,\n",
    "            '_source': skiboard\n",
    "        }\n",
    "        yield document\n",
    "        "
   ]
  },
  {
   "cell_type": "code",
   "execution_count": 33,
   "id": "37d4bc19",
   "metadata": {},
   "outputs": [
    {
     "name": "stdout",
     "output_type": "stream",
     "text": [
      "Processing update...\n",
      "New Index: skiboards-2023-10-05\n",
      "Extracting... Burton HometownHeroSplit (2023)\n",
      "Extracting... YES BasicWomens (2023)\n",
      "Extracting... Burton Custom (2022)\n",
      "Extracting... Capita DOA (2022)\n"
     ]
    },
    {
     "name": "stderr",
     "output_type": "stream",
     "text": [
      "/Library/Frameworks/Python.framework/Versions/3.11/lib/python3.11/site-packages/elasticsearch/connection/base.py:208: ElasticsearchWarning: [types removal] Specifying types in bulk requests is deprecated.\n",
      "  warnings.warn(message, category=ElasticsearchWarning)\n"
     ]
    }
   ],
   "source": [
    "successes = 0\n",
    "print(\"Processing update...\")\n",
    "print(\"New Index: \" + new_index_name)\n",
    "for ok, action in streaming_bulk(client=es_client, index=new_index_name, actions=generate_update_docs()):\n",
    "    successes += ok"
   ]
  },
  {
   "cell_type": "markdown",
   "id": "3749d06c",
   "metadata": {},
   "source": [
    "## Search"
   ]
  },
  {
   "cell_type": "code",
   "execution_count": 34,
   "id": "26fd083d",
   "metadata": {},
   "outputs": [],
   "source": [
    "query = \"burton custom\""
   ]
  },
  {
   "cell_type": "code",
   "execution_count": 35,
   "id": "3c9cfd5b",
   "metadata": {},
   "outputs": [
    {
     "ename": "RequestError",
     "evalue": "RequestError(400, 'search_phase_execution_exception', 'failed to create query: For input string: \"burton custom\"')",
     "output_type": "error",
     "traceback": [
      "\u001b[0;31m---------------------------------------------------------------------------\u001b[0m",
      "\u001b[0;31mRequestError\u001b[0m                              Traceback (most recent call last)",
      "Cell \u001b[0;32mIn[35], line 14\u001b[0m\n\u001b[1;32m      1\u001b[0m search_body \u001b[38;5;241m=\u001b[39m {\n\u001b[1;32m      2\u001b[0m         \u001b[38;5;124m\"\u001b[39m\u001b[38;5;124mquery\u001b[39m\u001b[38;5;124m\"\u001b[39m: {\n\u001b[1;32m      3\u001b[0m             \u001b[38;5;124m\"\u001b[39m\u001b[38;5;124mmulti_match\u001b[39m\u001b[38;5;124m\"\u001b[39m: {\n\u001b[0;32m   (...)\u001b[0m\n\u001b[1;32m     12\u001b[0m         }\n\u001b[1;32m     13\u001b[0m     }\n\u001b[0;32m---> 14\u001b[0m res \u001b[38;5;241m=\u001b[39m \u001b[43mes_client\u001b[49m\u001b[38;5;241;43m.\u001b[39;49m\u001b[43msearch\u001b[49m\u001b[43m(\u001b[49m\u001b[43mindex\u001b[49m\u001b[38;5;241;43m=\u001b[39;49m\u001b[43mnew_index_name\u001b[49m\u001b[43m,\u001b[49m\u001b[43m \u001b[49m\u001b[43mbody\u001b[49m\u001b[38;5;241;43m=\u001b[39;49m\u001b[43msearch_body\u001b[49m\u001b[43m)\u001b[49m\n",
      "File \u001b[0;32m/Library/Frameworks/Python.framework/Versions/3.11/lib/python3.11/site-packages/elasticsearch/client/utils.py:168\u001b[0m, in \u001b[0;36mquery_params.<locals>._wrapper.<locals>._wrapped\u001b[0;34m(*args, **kwargs)\u001b[0m\n\u001b[1;32m    166\u001b[0m     \u001b[38;5;28;01mif\u001b[39;00m p \u001b[38;5;129;01min\u001b[39;00m kwargs:\n\u001b[1;32m    167\u001b[0m         params[p] \u001b[38;5;241m=\u001b[39m kwargs\u001b[38;5;241m.\u001b[39mpop(p)\n\u001b[0;32m--> 168\u001b[0m \u001b[38;5;28;01mreturn\u001b[39;00m \u001b[43mfunc\u001b[49m\u001b[43m(\u001b[49m\u001b[38;5;241;43m*\u001b[39;49m\u001b[43margs\u001b[49m\u001b[43m,\u001b[49m\u001b[43m \u001b[49m\u001b[43mparams\u001b[49m\u001b[38;5;241;43m=\u001b[39;49m\u001b[43mparams\u001b[49m\u001b[43m,\u001b[49m\u001b[43m \u001b[49m\u001b[43mheaders\u001b[49m\u001b[38;5;241;43m=\u001b[39;49m\u001b[43mheaders\u001b[49m\u001b[43m,\u001b[49m\u001b[43m \u001b[49m\u001b[38;5;241;43m*\u001b[39;49m\u001b[38;5;241;43m*\u001b[39;49m\u001b[43mkwargs\u001b[49m\u001b[43m)\u001b[49m\n",
      "File \u001b[0;32m/Library/Frameworks/Python.framework/Versions/3.11/lib/python3.11/site-packages/elasticsearch/client/__init__.py:1670\u001b[0m, in \u001b[0;36mElasticsearch.search\u001b[0;34m(self, body, index, doc_type, params, headers)\u001b[0m\n\u001b[1;32m   1667\u001b[0m \u001b[38;5;28;01mif\u001b[39;00m \u001b[38;5;124m\"\u001b[39m\u001b[38;5;124mfrom_\u001b[39m\u001b[38;5;124m\"\u001b[39m \u001b[38;5;129;01min\u001b[39;00m params:\n\u001b[1;32m   1668\u001b[0m     params[\u001b[38;5;124m\"\u001b[39m\u001b[38;5;124mfrom\u001b[39m\u001b[38;5;124m\"\u001b[39m] \u001b[38;5;241m=\u001b[39m params\u001b[38;5;241m.\u001b[39mpop(\u001b[38;5;124m\"\u001b[39m\u001b[38;5;124mfrom_\u001b[39m\u001b[38;5;124m\"\u001b[39m)\n\u001b[0;32m-> 1670\u001b[0m \u001b[38;5;28;01mreturn\u001b[39;00m \u001b[38;5;28;43mself\u001b[39;49m\u001b[38;5;241;43m.\u001b[39;49m\u001b[43mtransport\u001b[49m\u001b[38;5;241;43m.\u001b[39;49m\u001b[43mperform_request\u001b[49m\u001b[43m(\u001b[49m\n\u001b[1;32m   1671\u001b[0m \u001b[43m    \u001b[49m\u001b[38;5;124;43m\"\u001b[39;49m\u001b[38;5;124;43mPOST\u001b[39;49m\u001b[38;5;124;43m\"\u001b[39;49m\u001b[43m,\u001b[49m\n\u001b[1;32m   1672\u001b[0m \u001b[43m    \u001b[49m\u001b[43m_make_path\u001b[49m\u001b[43m(\u001b[49m\u001b[43mindex\u001b[49m\u001b[43m,\u001b[49m\u001b[43m \u001b[49m\u001b[43mdoc_type\u001b[49m\u001b[43m,\u001b[49m\u001b[43m \u001b[49m\u001b[38;5;124;43m\"\u001b[39;49m\u001b[38;5;124;43m_search\u001b[39;49m\u001b[38;5;124;43m\"\u001b[39;49m\u001b[43m)\u001b[49m\u001b[43m,\u001b[49m\n\u001b[1;32m   1673\u001b[0m \u001b[43m    \u001b[49m\u001b[43mparams\u001b[49m\u001b[38;5;241;43m=\u001b[39;49m\u001b[43mparams\u001b[49m\u001b[43m,\u001b[49m\n\u001b[1;32m   1674\u001b[0m \u001b[43m    \u001b[49m\u001b[43mheaders\u001b[49m\u001b[38;5;241;43m=\u001b[39;49m\u001b[43mheaders\u001b[49m\u001b[43m,\u001b[49m\n\u001b[1;32m   1675\u001b[0m \u001b[43m    \u001b[49m\u001b[43mbody\u001b[49m\u001b[38;5;241;43m=\u001b[39;49m\u001b[43mbody\u001b[49m\u001b[43m,\u001b[49m\n\u001b[1;32m   1676\u001b[0m \u001b[43m\u001b[49m\u001b[43m)\u001b[49m\n",
      "File \u001b[0;32m/Library/Frameworks/Python.framework/Versions/3.11/lib/python3.11/site-packages/elasticsearch/transport.py:415\u001b[0m, in \u001b[0;36mTransport.perform_request\u001b[0;34m(self, method, url, headers, params, body)\u001b[0m\n\u001b[1;32m    413\u001b[0m             \u001b[38;5;28;01mraise\u001b[39;00m e\n\u001b[1;32m    414\u001b[0m     \u001b[38;5;28;01melse\u001b[39;00m:\n\u001b[0;32m--> 415\u001b[0m         \u001b[38;5;28;01mraise\u001b[39;00m e\n\u001b[1;32m    417\u001b[0m \u001b[38;5;28;01melse\u001b[39;00m:\n\u001b[1;32m    418\u001b[0m     \u001b[38;5;66;03m# connection didn't fail, confirm it's live status\u001b[39;00m\n\u001b[1;32m    419\u001b[0m     \u001b[38;5;28mself\u001b[39m\u001b[38;5;241m.\u001b[39mconnection_pool\u001b[38;5;241m.\u001b[39mmark_live(connection)\n",
      "File \u001b[0;32m/Library/Frameworks/Python.framework/Versions/3.11/lib/python3.11/site-packages/elasticsearch/transport.py:381\u001b[0m, in \u001b[0;36mTransport.perform_request\u001b[0;34m(self, method, url, headers, params, body)\u001b[0m\n\u001b[1;32m    378\u001b[0m connection \u001b[38;5;241m=\u001b[39m \u001b[38;5;28mself\u001b[39m\u001b[38;5;241m.\u001b[39mget_connection()\n\u001b[1;32m    380\u001b[0m \u001b[38;5;28;01mtry\u001b[39;00m:\n\u001b[0;32m--> 381\u001b[0m     status, headers_response, data \u001b[38;5;241m=\u001b[39m \u001b[43mconnection\u001b[49m\u001b[38;5;241;43m.\u001b[39;49m\u001b[43mperform_request\u001b[49m\u001b[43m(\u001b[49m\n\u001b[1;32m    382\u001b[0m \u001b[43m        \u001b[49m\u001b[43mmethod\u001b[49m\u001b[43m,\u001b[49m\n\u001b[1;32m    383\u001b[0m \u001b[43m        \u001b[49m\u001b[43murl\u001b[49m\u001b[43m,\u001b[49m\n\u001b[1;32m    384\u001b[0m \u001b[43m        \u001b[49m\u001b[43mparams\u001b[49m\u001b[43m,\u001b[49m\n\u001b[1;32m    385\u001b[0m \u001b[43m        \u001b[49m\u001b[43mbody\u001b[49m\u001b[43m,\u001b[49m\n\u001b[1;32m    386\u001b[0m \u001b[43m        \u001b[49m\u001b[43mheaders\u001b[49m\u001b[38;5;241;43m=\u001b[39;49m\u001b[43mheaders\u001b[49m\u001b[43m,\u001b[49m\n\u001b[1;32m    387\u001b[0m \u001b[43m        \u001b[49m\u001b[43mignore\u001b[49m\u001b[38;5;241;43m=\u001b[39;49m\u001b[43mignore\u001b[49m\u001b[43m,\u001b[49m\n\u001b[1;32m    388\u001b[0m \u001b[43m        \u001b[49m\u001b[43mtimeout\u001b[49m\u001b[38;5;241;43m=\u001b[39;49m\u001b[43mtimeout\u001b[49m\u001b[43m,\u001b[49m\n\u001b[1;32m    389\u001b[0m \u001b[43m    \u001b[49m\u001b[43m)\u001b[49m\n\u001b[1;32m    391\u001b[0m \u001b[38;5;28;01mexcept\u001b[39;00m TransportError \u001b[38;5;28;01mas\u001b[39;00m e:\n\u001b[1;32m    392\u001b[0m     \u001b[38;5;28;01mif\u001b[39;00m method \u001b[38;5;241m==\u001b[39m \u001b[38;5;124m\"\u001b[39m\u001b[38;5;124mHEAD\u001b[39m\u001b[38;5;124m\"\u001b[39m \u001b[38;5;129;01mand\u001b[39;00m e\u001b[38;5;241m.\u001b[39mstatus_code \u001b[38;5;241m==\u001b[39m \u001b[38;5;241m404\u001b[39m:\n",
      "File \u001b[0;32m/Library/Frameworks/Python.framework/Versions/3.11/lib/python3.11/site-packages/elasticsearch/connection/http_urllib3.py:275\u001b[0m, in \u001b[0;36mUrllib3HttpConnection.perform_request\u001b[0;34m(self, method, url, params, body, timeout, ignore, headers)\u001b[0m\n\u001b[1;32m    271\u001b[0m \u001b[38;5;28;01mif\u001b[39;00m \u001b[38;5;129;01mnot\u001b[39;00m (\u001b[38;5;241m200\u001b[39m \u001b[38;5;241m<\u001b[39m\u001b[38;5;241m=\u001b[39m response\u001b[38;5;241m.\u001b[39mstatus \u001b[38;5;241m<\u001b[39m \u001b[38;5;241m300\u001b[39m) \u001b[38;5;129;01mand\u001b[39;00m response\u001b[38;5;241m.\u001b[39mstatus \u001b[38;5;129;01mnot\u001b[39;00m \u001b[38;5;129;01min\u001b[39;00m ignore:\n\u001b[1;32m    272\u001b[0m     \u001b[38;5;28mself\u001b[39m\u001b[38;5;241m.\u001b[39mlog_request_fail(\n\u001b[1;32m    273\u001b[0m         method, full_url, url, orig_body, duration, response\u001b[38;5;241m.\u001b[39mstatus, raw_data\n\u001b[1;32m    274\u001b[0m     )\n\u001b[0;32m--> 275\u001b[0m     \u001b[38;5;28;43mself\u001b[39;49m\u001b[38;5;241;43m.\u001b[39;49m\u001b[43m_raise_error\u001b[49m\u001b[43m(\u001b[49m\u001b[43mresponse\u001b[49m\u001b[38;5;241;43m.\u001b[39;49m\u001b[43mstatus\u001b[49m\u001b[43m,\u001b[49m\u001b[43m \u001b[49m\u001b[43mraw_data\u001b[49m\u001b[43m)\u001b[49m\n\u001b[1;32m    277\u001b[0m \u001b[38;5;28mself\u001b[39m\u001b[38;5;241m.\u001b[39mlog_request_success(\n\u001b[1;32m    278\u001b[0m     method, full_url, url, orig_body, response\u001b[38;5;241m.\u001b[39mstatus, raw_data, duration\n\u001b[1;32m    279\u001b[0m )\n\u001b[1;32m    281\u001b[0m \u001b[38;5;28;01mreturn\u001b[39;00m response\u001b[38;5;241m.\u001b[39mstatus, response\u001b[38;5;241m.\u001b[39mgetheaders(), raw_data\n",
      "File \u001b[0;32m/Library/Frameworks/Python.framework/Versions/3.11/lib/python3.11/site-packages/elasticsearch/connection/base.py:330\u001b[0m, in \u001b[0;36mConnection._raise_error\u001b[0;34m(self, status_code, raw_data)\u001b[0m\n\u001b[1;32m    327\u001b[0m \u001b[38;5;28;01mexcept\u001b[39;00m (\u001b[38;5;167;01mValueError\u001b[39;00m, \u001b[38;5;167;01mTypeError\u001b[39;00m) \u001b[38;5;28;01mas\u001b[39;00m err:\n\u001b[1;32m    328\u001b[0m     logger\u001b[38;5;241m.\u001b[39mwarning(\u001b[38;5;124m\"\u001b[39m\u001b[38;5;124mUndecodable raw error response from server: \u001b[39m\u001b[38;5;132;01m%s\u001b[39;00m\u001b[38;5;124m\"\u001b[39m, err)\n\u001b[0;32m--> 330\u001b[0m \u001b[38;5;28;01mraise\u001b[39;00m HTTP_EXCEPTIONS\u001b[38;5;241m.\u001b[39mget(status_code, TransportError)(\n\u001b[1;32m    331\u001b[0m     status_code, error_message, additional_info\n\u001b[1;32m    332\u001b[0m )\n",
      "\u001b[0;31mRequestError\u001b[0m: RequestError(400, 'search_phase_execution_exception', 'failed to create query: For input string: \"burton custom\"')"
     ]
    }
   ],
   "source": [
    "search_body = {\n",
    "        \"query\": {\n",
    "            \"multi_match\": {\n",
    "                \"query\": query,\n",
    "                \"type\": \"bool_prefix\",\n",
    "                \"fields\": [\n",
    "                    \"brand\",\n",
    "                    \"model\",\n",
    "                    \"year\"\n",
    "                ]\n",
    "            }\n",
    "        }\n",
    "    }\n",
    "res = es_client.search(index=new_index_name, body=search_body)"
   ]
  },
  {
   "cell_type": "code",
   "execution_count": null,
   "id": "e69ec7c6",
   "metadata": {},
   "outputs": [],
   "source": []
  },
  {
   "cell_type": "code",
   "execution_count": null,
   "id": "34efa0a7",
   "metadata": {},
   "outputs": [],
   "source": []
  },
  {
   "cell_type": "code",
   "execution_count": null,
   "id": "f3f5411e",
   "metadata": {},
   "outputs": [],
   "source": []
  },
  {
   "cell_type": "markdown",
   "id": "b23c2bde",
   "metadata": {},
   "source": [
    "## Delete Index"
   ]
  },
  {
   "cell_type": "code",
   "execution_count": 150,
   "id": "7b3e61cf",
   "metadata": {},
   "outputs": [],
   "source": [
    "try:\n",
    "    idx_manager.delete(index=new_index_name)\n",
    "except:\n",
    "    print(\"No index found with alias: {}\".format(new_index_name))"
   ]
  },
  {
   "cell_type": "code",
   "execution_count": null,
   "id": "3b2962d7",
   "metadata": {},
   "outputs": [],
   "source": []
  }
 ],
 "metadata": {
  "kernelspec": {
   "display_name": "Python 3 (ipykernel)",
   "language": "python",
   "name": "python3"
  },
  "language_info": {
   "codemirror_mode": {
    "name": "ipython",
    "version": 3
   },
   "file_extension": ".py",
   "mimetype": "text/x-python",
   "name": "python",
   "nbconvert_exporter": "python",
   "pygments_lexer": "ipython3",
   "version": "3.11.2"
  }
 },
 "nbformat": 4,
 "nbformat_minor": 5
}
