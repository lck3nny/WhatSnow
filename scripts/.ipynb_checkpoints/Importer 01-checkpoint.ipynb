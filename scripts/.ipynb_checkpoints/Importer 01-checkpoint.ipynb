{
 "cells": [
  {
   "cell_type": "markdown",
   "id": "7e13b981",
   "metadata": {},
   "source": [
    "# Imports\n",
    "---\n",
    "Import new skis / snowboards to an SQL database"
   ]
  },
  {
   "cell_type": "code",
   "execution_count": 452,
   "id": "0fe4a836",
   "metadata": {},
   "outputs": [],
   "source": [
    "import json\n",
    "import pymysql\n",
    "import re"
   ]
  },
  {
   "cell_type": "code",
   "execution_count": 453,
   "id": "362226e7",
   "metadata": {},
   "outputs": [],
   "source": [
    "# Database Setup\n",
    "# --------------------------------------------------\n",
    "def setupdb():\n",
    "    f = open('../application/config/localdb_config.json')\n",
    "    dbconfig = json.loads(f.read())\n",
    "    db = pymysql.connect(host=dbconfig['localhost'], user=dbconfig['username'], password=dbconfig['password'], database=dbconfig['database'])\n",
    "    f.close()\n",
    "    return db"
   ]
  },
  {
   "cell_type": "code",
   "execution_count": 454,
   "id": "32a77d58",
   "metadata": {},
   "outputs": [],
   "source": [
    "db = setupdb()\n",
    "cursor = db.cursor()"
   ]
  },
  {
   "cell_type": "code",
   "execution_count": 455,
   "id": "6b4a916a",
   "metadata": {},
   "outputs": [],
   "source": [
    "params = {\n",
    "    'size': ['size', 'length'],\n",
    "    'nose width': ['nose width', 'tip width'],\n",
    "    'waist width': ['waist width'],\n",
    "    'tail width': ['tail width'],\n",
    "    'sidecut': ['sidecut radius', 'turning radius', 'radius', 'sidecut'],\n",
    "    'setback': ['stance setback', 'setback'],\n",
    "    'effective edge': ['effective edge', 'running length']\n",
    "}"
   ]
  },
  {
   "cell_type": "code",
   "execution_count": 456,
   "id": "0adb5080",
   "metadata": {},
   "outputs": [],
   "source": [
    "values = {\n",
    "    'size': '',\n",
    "    'nose width': '',\n",
    "    'waist width': '',\n",
    "    'tail width': '',\n",
    "    'sidecut': '',\n",
    "    'setback': '',\n",
    "    'effective edge': ''\n",
    "}"
   ]
  },
  {
   "cell_type": "code",
   "execution_count": 524,
   "id": "85d7337e",
   "metadata": {},
   "outputs": [],
   "source": [
    "# Extraction of data \n",
    "# from string format to a tabular structure\n",
    "# --------------------------------------------------\n",
    "def extract_data(table):\n",
    "    # Remove units from headings\n",
    "    while ')' in table:\n",
    "        table = table[:table.find('(')] + table[table.find(')') + 1:]\n",
    "        \n",
    "    breakpoints = []\n",
    "    \n",
    "    # Find location of headings in table\n",
    "    for i in params:\n",
    "        row = []\n",
    "        for j in params[i]:\n",
    "            if j in table:\n",
    "                breakpoints.append(table.find(j))\n",
    "                break\n",
    "        \n",
    "        values[i] = row\n",
    "        \n",
    "    # Extract table data into rows\n",
    "    rows = []\n",
    "    breakpoints.sort()\n",
    "    for i, b in enumerate(breakpoints):\n",
    "        if i > 0:\n",
    "            rows.append(table[breakpoints[i-1]:b])\n",
    "        if i == len(breakpoints) -1:\n",
    "            rows.append(table[b:])\n",
    "    \n",
    "    \n",
    "    # Remove lables from rows\n",
    "    for row in rows:\n",
    "        for i in params:\n",
    "            for j in params[i]:\n",
    "                if j in row:\n",
    "                    values[i] = row.replace(j, '')\n",
    "                    break\n",
    "                    \n",
    "    \n",
    "    # Format table rows as lists\n",
    "    for val in values:\n",
    "        try:\n",
    "            values[val] = values[val].strip()\n",
    "            values[val] = values[val].split()   \n",
    "        except Exception as e:\n",
    "            x = e\n",
    "            \n",
    "    \n",
    "    # Truncate long rows to the correct size\n",
    "    num_sizes = len(values['size'])\n",
    "    for val in values:\n",
    "        values[val] = values[val][:num_sizes]\n",
    "        \n",
    "        # Fill empty or missing data with null values\n",
    "        for x in range(num_sizes - len(values[val])):\n",
    "            values[val].append(0)\n",
    "            \n",
    "    \n",
    "        \n",
    "        \n",
    "    return values"
   ]
  },
  {
   "cell_type": "code",
   "execution_count": 504,
   "id": "f8411e19",
   "metadata": {},
   "outputs": [],
   "source": [
    "# Save skiboard in MySQL DB\n",
    "# --------------------------------------------------\n",
    "def save_skiboard(skiboard):\n",
    "    try:\n",
    "        sql = f\"\"\"INSERT INTO skiboards (\n",
    "            url,\n",
    "            brand,\n",
    "            model,\n",
    "            year,\n",
    "            name,\n",
    "            slug,\n",
    "            category,\n",
    "            family,\n",
    "            description,\n",
    "            stiffness,\n",
    "            flex_profile,\n",
    "            camber_profile,\n",
    "            camber_details,\n",
    "            core,\n",
    "            laminates,\n",
    "            base,\n",
    "            weight,\n",
    "            womens,\n",
    "            youth\n",
    "        ) VALUES (\n",
    "            '{skiboard['url']}',\n",
    "            '{skiboard['brand']}',\n",
    "            '{skiboard['model']}',\n",
    "            '{skiboard['year']}',\n",
    "            '{str(skiboard['brand']).capitalize()} {str(skiboard['model']).capitalize()} {str(skiboard['year'])}',\n",
    "            '{str(skiboard['brand']).lower()}-{str(skiboard['model']).lower()}-{str(skiboard['year'])}',\n",
    "            '{skiboard['category']}',\n",
    "            '{skiboard['family']}',\n",
    "            '{skiboard['description']}',\n",
    "            '{skiboard['stiffness']}',\n",
    "            '{skiboard['flex_profile']}',\n",
    "            '{skiboard['camber_profile']}',\n",
    "            '{skiboard['camber_details']}',\n",
    "            '{skiboard['core']}',\n",
    "            '{skiboard['laminates']}',\n",
    "            '{skiboard['base']}',\n",
    "            '{skiboard['weight']}',\n",
    "            '{skiboard['womens']}'\n",
    "            '{skiboard['youth']}'\n",
    "        )\"\"\"\n",
    "        cursor.execute(sql)\n",
    "        db.commit()\n",
    "    except Exception as e:\n",
    "        print(f\"ERROR:\\n{e}\")"
   ]
  },
  {
   "cell_type": "code",
   "execution_count": 522,
   "id": "b5802ac7",
   "metadata": {},
   "outputs": [],
   "source": [
    "# Save data in MySQL DB\n",
    "# --------------------------------------------------\n",
    "def save_values(skiboard, values):\n",
    "    print(f\"Importing...\\n{str(skiboard['brand']).capitalize()} {str(skiboard['model']).capitalize()} {str(skiboard['year'])}\\nValues:\\n{values}\")\n",
    "\n",
    "    for x in range(len(values['size'])):\n",
    "        try:\n",
    "            sql = f\"\"\"REPLACE INTO sizes (\n",
    "                skiboard_id,\n",
    "                size,\n",
    "                nose_width,\n",
    "                waist_width,\n",
    "                tail_width,\n",
    "                sidecut,\n",
    "                setback,\n",
    "                effective_edge\n",
    "            ) VALUES (\n",
    "                '{str(skiboard['id'])}',\n",
    "                '{str(values['size'][x])}',\n",
    "                '{float(values['nose width'][x])}',\n",
    "                '{float(values['waist width'][x])}',\n",
    "                '{float(values['tail width'][x])}',\n",
    "                '{float(values['sidecut'][x])}',\n",
    "                '{float(values['setback'][x])}',\n",
    "                '{float(values['effective edge'][x])}'\n",
    "            )\"\"\"\n",
    "\n",
    "            cursor.execute(sql)\n",
    "            db.commit()\n",
    "        except Exception as e:\n",
    "            print(f\"ERROR: size ({values['size'][x]})\\n{e}\\n\")\n",
    "            print(f\"SQL:\\n{sql}\\n\\n\")\n",
    "    \n",
    "    return True"
   ]
  },
  {
   "cell_type": "markdown",
   "id": "a725927a",
   "metadata": {},
   "source": [
    "# Create New SkiBoard\n",
    "---"
   ]
  },
  {
   "cell_type": "code",
   "execution_count": 506,
   "id": "0b8f0ed7",
   "metadata": {},
   "outputs": [],
   "source": [
    "skiboard = {\n",
    "    'id': 23,\n",
    "    'url': '',\n",
    "    'brand': 'Burton',\n",
    "    'model': 'Backseat Driver',\n",
    "    'year': 2020,\n",
    "    'category': 'Snowboard',\n",
    "    'family': 'Family Tree',\n",
    "    'description': \"Free your feet, free you mind – true snowboard construction built to surf on snow. Surf-inspired design meets traditional snowboard construction in the men's Burton Backseat Driver Snowboard. If you're wondering, 'Where do the bindings go?' They don't. This pow surfer is designed to surf sans-straps everywhere from your backyard to the backcountry. A spoon nose provides float and flow, working in conjunction with a V-hull in the tail that maintains a loose feeling, but transitions into a strong, powerful turn when engaged. This board is built to push boundaries, and spread the joy of surfing on snow.\".replace(\"'\", \"`\"),\n",
    "    'stiffness': 4,\n",
    "    'flex_profile': 'Directional',\n",
    "    'camber_profile': 'Directional Flat',\n",
    "    'camber_details': '',\n",
    "    'core': 'Super Fly™ 800G Core',\n",
    "    'laminates': '',\n",
    "    'base': 'Extruded Base',\n",
    "    'weight': 0,\n",
    "    'womens': 0\n",
    "    'youth': 0\n",
    "}"
   ]
  },
  {
   "cell_type": "code",
   "execution_count": 495,
   "id": "b6f27323",
   "metadata": {},
   "outputs": [],
   "source": [
    "save_skiboard(skiboard)"
   ]
  },
  {
   "cell_type": "markdown",
   "id": "7cbc0ec6",
   "metadata": {},
   "source": [
    "# Add Sizes to SkiBoard\n",
    "---"
   ]
  },
  {
   "cell_type": "code",
   "execution_count": 507,
   "id": "399ca5b2",
   "metadata": {},
   "outputs": [
    {
     "name": "stdout",
     "output_type": "stream",
     "text": [
      "Please submit your ski/snowboard size table\n",
      "\n",
      "Size (cm)\t140 Effective Edge (mm)\t850 Tip width (mm)\t298.5 Waist Width (mm)\t260 Tail Width (mm)\t273.5 Sidecut Radius (m)\t4.3 Stance Range (mm)\t530 Rider Weight (lbs)\t120-180 Width\tWide\n"
     ]
    }
   ],
   "source": [
    "table = input(\"Please submit your ski/snowboard size table\\n\\n\").lower()"
   ]
  },
  {
   "cell_type": "code",
   "execution_count": 526,
   "id": "2dfd51b7",
   "metadata": {},
   "outputs": [],
   "source": [
    "values = extract_data(table)"
   ]
  },
  {
   "cell_type": "code",
   "execution_count": 527,
   "id": "1b5c3eff",
   "metadata": {},
   "outputs": [
    {
     "name": "stdout",
     "output_type": "stream",
     "text": [
      "size:\n",
      "['140']\n",
      "\n",
      "\n",
      "nose width:\n",
      "['298.5']\n",
      "\n",
      "\n",
      "waist width:\n",
      "['260']\n",
      "\n",
      "\n",
      "tail width:\n",
      "['273.5']\n",
      "\n",
      "\n",
      "sidecut:\n",
      "['4.3']\n",
      "\n",
      "\n",
      "setback:\n",
      "[0]\n",
      "\n",
      "\n",
      "effective edge:\n",
      "['850']\n",
      "\n",
      "\n"
     ]
    }
   ],
   "source": [
    "for row in values:\n",
    "    print(f\"{row}:\\n{values[row]}\\n\\n\")"
   ]
  },
  {
   "cell_type": "code",
   "execution_count": 528,
   "id": "9732629d",
   "metadata": {},
   "outputs": [
    {
     "name": "stdout",
     "output_type": "stream",
     "text": [
      "Importing...\n",
      "Burton Backseat driver 2020\n",
      "Values:\n",
      "{'size': ['140'], 'nose width': ['298.5'], 'waist width': ['260'], 'tail width': ['273.5'], 'sidecut': ['4.3'], 'setback': [0], 'effective edge': ['850']}\n",
      "SUCCESS!\n"
     ]
    }
   ],
   "source": [
    "success = save_values(skiboard, values)\n",
    "if success:\n",
    "    print(\"SUCCESS!\")"
   ]
  },
  {
   "cell_type": "code",
   "execution_count": null,
   "id": "b9d8461f",
   "metadata": {},
   "outputs": [],
   "source": []
  },
  {
   "cell_type": "code",
   "execution_count": null,
   "id": "5c6ded0c",
   "metadata": {},
   "outputs": [],
   "source": []
  }
 ],
 "metadata": {
  "kernelspec": {
   "display_name": "Python 3 (ipykernel)",
   "language": "python",
   "name": "python3"
  },
  "language_info": {
   "codemirror_mode": {
    "name": "ipython",
    "version": 3
   },
   "file_extension": ".py",
   "mimetype": "text/x-python",
   "name": "python",
   "nbconvert_exporter": "python",
   "pygments_lexer": "ipython3",
   "version": "3.11.2"
  }
 },
 "nbformat": 4,
 "nbformat_minor": 5
}
