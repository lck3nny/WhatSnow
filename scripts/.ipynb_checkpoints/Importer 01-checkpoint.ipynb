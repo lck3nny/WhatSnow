{
 "cells": [
  {
   "cell_type": "markdown",
   "id": "3d48dde1",
   "metadata": {},
   "source": [
    "# Imports\n",
    "---\n",
    "Import new skis / snowboards to an SQL database"
   ]
  },
  {
   "cell_type": "code",
   "execution_count": 404,
   "id": "4fa71303",
   "metadata": {},
   "outputs": [],
   "source": [
    "import json\n",
    "import pymysql\n",
    "import re"
   ]
  },
  {
   "cell_type": "code",
   "execution_count": 405,
   "id": "93869bb8",
   "metadata": {},
   "outputs": [],
   "source": [
    "# Database Setup\n",
    "# --------------------------------------------------\n",
    "def setupdb():\n",
    "    f = open('../application/config/localdb_config.json')\n",
    "    dbconfig = json.loads(f.read())\n",
    "    db = pymysql.connect(host=dbconfig['localhost'], user=dbconfig['username'], password=dbconfig['password'], database=dbconfig['database'])\n",
    "    f.close()\n",
    "    return db"
   ]
  },
  {
   "cell_type": "code",
   "execution_count": 406,
   "id": "b4063f2d",
   "metadata": {},
   "outputs": [],
   "source": [
    "db = setupdb()\n",
    "cursor = db.cursor()"
   ]
  },
  {
   "cell_type": "code",
   "execution_count": 407,
   "id": "2f3194b0",
   "metadata": {},
   "outputs": [],
   "source": [
    "params = {\n",
    "    'size': ['size', 'length'],\n",
    "    'nose width': ['nose width', 'tip width'],\n",
    "    'waist width': ['waist width'],\n",
    "    'tail width': ['tail width'],\n",
    "    'sidecut': ['sidecut radius', 'turning radius', 'radius', 'sidecut'],\n",
    "    'setback': ['stance setback', 'setback'],\n",
    "    'effective edge': ['effective edge', 'running length']\n",
    "}"
   ]
  },
  {
   "cell_type": "code",
   "execution_count": 408,
   "id": "252f9e72",
   "metadata": {},
   "outputs": [],
   "source": [
    "values = {\n",
    "    'size': '',\n",
    "    'nose width': '',\n",
    "    'waist width': '',\n",
    "    'tail width': '',\n",
    "    'sidecut': '',\n",
    "    'setback': '',\n",
    "    'effective edge': ''\n",
    "}"
   ]
  },
  {
   "cell_type": "code",
   "execution_count": 409,
   "id": "9287f332",
   "metadata": {},
   "outputs": [],
   "source": [
    "# Extraction of data \n",
    "# from string format to a tabular structure\n",
    "# --------------------------------------------------\n",
    "def extract_data(table):\n",
    "    # Remove units from headings\n",
    "    while ')' in table:\n",
    "        table = table[:table.find('(')] + table[table.find(')') + 1:]\n",
    "        \n",
    "    breakpoints = []\n",
    "    \n",
    "    # Find location of headings in table\n",
    "    for i in params:\n",
    "        row = []\n",
    "        for j in params[i]:\n",
    "            if j in table:\n",
    "                breakpoints.append(table.find(j))\n",
    "                break\n",
    "        \n",
    "        values[i] = row\n",
    "        \n",
    "    # Extract table data into rows\n",
    "    rows = []\n",
    "    breakpoints.sort()\n",
    "    for i, b in enumerate(breakpoints):\n",
    "        if i > 0:\n",
    "            rows.append(table[breakpoints[i-1]:b])\n",
    "        if i == len(breakpoints) -1:\n",
    "            rows.append(table[b:])\n",
    "    \n",
    "    \n",
    "    # Remove lables from rows\n",
    "    for row in rows:\n",
    "        for i in params:\n",
    "            for j in params[i]:\n",
    "                if j in row:\n",
    "                    values[i] = row.replace(j, '')\n",
    "                    break\n",
    "                    \n",
    "    \n",
    "    # Format table rows as lists\n",
    "    for val in values:\n",
    "        try:\n",
    "            values[val] = values[val].strip()\n",
    "            values[val] = values[val].split()   \n",
    "        except Exception as e:\n",
    "            x = e\n",
    "            \n",
    "    \n",
    "    # Truncate long rows to the correct size\n",
    "    num_sizes = len(values['size'])\n",
    "    for val in values:\n",
    "        values[val] = values[val][:num_sizes]\n",
    "        \n",
    "    return values"
   ]
  },
  {
   "cell_type": "code",
   "execution_count": 410,
   "id": "a4783d88",
   "metadata": {},
   "outputs": [],
   "source": [
    "# Save skiboard in MySQL DB\n",
    "# --------------------------------------------------\n",
    "def save_skiboard(skiboard):\n",
    "    try:\n",
    "        sql = f\"\"\"INSERT INTO skiboards (\n",
    "            url,\n",
    "            brand,\n",
    "            model,\n",
    "            year,\n",
    "            name,\n",
    "            slug,\n",
    "            category,\n",
    "            family,\n",
    "            description,\n",
    "            stiffness,\n",
    "            flex_profile,\n",
    "            camber_profile,\n",
    "            camber_details,\n",
    "            core,\n",
    "            laminates,\n",
    "            base,\n",
    "            weight,\n",
    "            youth\n",
    "        ) VALUES (\n",
    "            '{skiboard['url']}',\n",
    "            '{skiboard['brand']}',\n",
    "            '{skiboard['model']}',\n",
    "            '{skiboard['year']}',\n",
    "            '{skiboard['name']}',\n",
    "            '{skiboard['slug']}',\n",
    "            '{skiboard['category']}',\n",
    "            '{skiboard['family']}',\n",
    "            '{skiboard['description']}',\n",
    "            '{skiboard['stiffness']}',\n",
    "            '{skiboard['flex_profile']}',\n",
    "            '{skiboard['camber_profile']}',\n",
    "            '{skiboard['camber_details']}',\n",
    "            '{skiboard['core']}',\n",
    "            '{skiboard['laminates']}',\n",
    "            '{skiboard['base']}',\n",
    "            '{skiboard['weight']}',\n",
    "            '{skiboard['youth']}'\n",
    "        )\"\"\"\n",
    "        cursor.execute(sql)\n",
    "        db.commit()\n",
    "    except Exception as e:\n",
    "        print(f\"ERROR:\\n{e}\")"
   ]
  },
  {
   "cell_type": "code",
   "execution_count": 411,
   "id": "82056caa",
   "metadata": {},
   "outputs": [],
   "source": [
    "# Save data in MySQL DB\n",
    "# --------------------------------------------------\n",
    "def save_values(skiboard, values):\n",
    "    for x in range(len(values['size']) - 1):\n",
    "        try:\n",
    "            sql = f\"\"\"REPLACE INTO sizes (\n",
    "                skiboard_id,\n",
    "                size,\n",
    "                nose_width,\n",
    "                waist_width,\n",
    "                tail_width,\n",
    "                sidecut,\n",
    "                setback,\n",
    "                effective_edge\n",
    "            ) VALUES (\n",
    "                '{skiboard['id']}',\n",
    "                '{values['size'][x]}',\n",
    "                '{values['nose width'][x]}',\n",
    "                '{values['waist width'][x]}',\n",
    "                '{values['tail width'][x]}',\n",
    "                '{values['sidecut'][x]}',\n",
    "                '{values['setback'][x]}',\n",
    "                '{values['effective edge'][x]}'\n",
    "            )\"\"\"\n",
    "\n",
    "            cursor.execute(sql)\n",
    "            db.commit()\n",
    "        except Exception as e:\n",
    "            print(f\"ERROR: size ({values['size'][x]})\\n{e}\\n\")\n",
    "    \n",
    "    return True"
   ]
  },
  {
   "cell_type": "code",
   "execution_count": 412,
   "id": "2cbb10fa",
   "metadata": {},
   "outputs": [],
   "source": [
    "skiboard = {\n",
    "    'id': 9,\n",
    "    'url': '',\n",
    "    'brand': 'Burton',\n",
    "    'model': 'Mystery Landlord',\n",
    "    'year': 2020,\n",
    "    'name': 'Burton Mystery Landlord 2020',\n",
    "    'slug': 'burton-mystery-landlord-2020',\n",
    "    'category': 'Snowboard',\n",
    "    'family': 'Family Tree',\n",
    "    'description': 'Is there anything in life better than a landlord shrouded in mystery? When rent is paid by having yourself a wild time on the mountain, definitely not. The Burton Family Tree Mystery Landlord Snowboard appreciates your patronage and as a token of friendship offers Burton\\'s top of the line technologies - a Methlon base with a serious need for speed, a light and powerful Mystery Glass layup with secret design details, and a directional camber design that rewards the brave with elite control on all sorts of terrain, inbounds or out.',\n",
    "    'stiffness': 6,\n",
    "    'flex_profile': 'Directional',\n",
    "    'camber_profile': 'Directional Camber',\n",
    "    'camber_details': '',\n",
    "    'core': 'FSC™ Certified Dragonfly II™ 500G Core',\n",
    "    'laminates': 'Mystery Glass',\n",
    "    'base': 'Methlon Base',\n",
    "    'weight': 0,\n",
    "    'youth': 0\n",
    "}"
   ]
  },
  {
   "cell_type": "code",
   "execution_count": 413,
   "id": "3dafe23f",
   "metadata": {},
   "outputs": [],
   "source": [
    "save_skiboard(skiboard)"
   ]
  },
  {
   "cell_type": "code",
   "execution_count": 414,
   "id": "9b931524",
   "metadata": {},
   "outputs": [
    {
     "name": "stdout",
     "output_type": "stream",
     "text": [
      "Please submit your ski/snowboard size table\n",
      "\n",
      "Size (cm)\t150\t154\t154W\t156\t158\t158W\t162\t162W\t166W\t170W Effective Edge (mm)\t1135\t1175\t1175\t1195\t1215\t1215\t1255\t1255\t1295\t1335 Tip Width (mm)\t288.1\t291.5\t299.5\t294.3\t297\t305\t300.5\t308.5\t312\t317.4 Waist Width (mm)\t248\t250\t258\t252\t254\t262\t256\t264\t266\t270 Tail Width (mm)\t288.1\t291.5\t299.5\t294.3\t297\t305\t300.5\t308.5\t312\t317.4 Sidecut Radius (m)\t7.4\t7.6\t7.6\t7.8\t7.9\t7.9\t8.2\t8.2\t8.4\t8.7 Stance Setback (mm)\t12.5\t12.5\t12.5\t12.5\t12.5\t12.5\t12.5\t12.5\t12.5\t12.5 Rider Weight (lbs)\t120 - 180\t120 - 180\t120 - 180\t150 - 200\t150 - 200\t150 - 200\t180 - 260​+\t180 - 260​+\t180 - 260​+\t180 - 260​+ Width\tRegular\tRegular\tWide\tRegular\tRegular\tWide\tRegular\tWide\tWide\tWide\n"
     ]
    }
   ],
   "source": [
    "table = input(\"Please submit your ski/snowboard size table\\n\\n\").lower()"
   ]
  },
  {
   "cell_type": "code",
   "execution_count": 415,
   "id": "46cbf1c5",
   "metadata": {},
   "outputs": [],
   "source": [
    "values = extract_data(table)"
   ]
  },
  {
   "cell_type": "code",
   "execution_count": 416,
   "id": "f2f47860",
   "metadata": {},
   "outputs": [
    {
     "name": "stdout",
     "output_type": "stream",
     "text": [
      "size:\n",
      "['150', '154', '154w', '156', '158', '158w', '162', '162w', '166w', '170w']\n",
      "\n",
      "\n",
      "nose width:\n",
      "['288.1', '291.5', '299.5', '294.3', '297', '305', '300.5', '308.5', '312', '317.4']\n",
      "\n",
      "\n",
      "waist width:\n",
      "['248', '250', '258', '252', '254', '262', '256', '264', '266', '270']\n",
      "\n",
      "\n",
      "tail width:\n",
      "['288.1', '291.5', '299.5', '294.3', '297', '305', '300.5', '308.5', '312', '317.4']\n",
      "\n",
      "\n",
      "sidecut:\n",
      "['7.4', '7.6', '7.6', '7.8', '7.9', '7.9', '8.2', '8.2', '8.4', '8.7']\n",
      "\n",
      "\n",
      "setback:\n",
      "['12.5', '12.5', '12.5', '12.5', '12.5', '12.5', '12.5', '12.5', '12.5', '12.5']\n",
      "\n",
      "\n",
      "effective edge:\n",
      "['1135', '1175', '1175', '1195', '1215', '1215', '1255', '1255', '1295', '1335']\n",
      "\n",
      "\n"
     ]
    }
   ],
   "source": [
    "for row in values:\n",
    "    print(f\"{row}:\\n{values[row]}\\n\\n\")"
   ]
  },
  {
   "cell_type": "code",
   "execution_count": 417,
   "id": "4fa8fe5a",
   "metadata": {},
   "outputs": [],
   "source": [
    "success = save_values(skiboard, values)\n",
    "if success:\n",
    "    print(\"SUCCESS!\")"
   ]
  },
  {
   "cell_type": "code",
   "execution_count": null,
   "id": "18aa9bd6",
   "metadata": {},
   "outputs": [],
   "source": []
  },
  {
   "cell_type": "code",
   "execution_count": null,
   "id": "48d3274f",
   "metadata": {},
   "outputs": [],
   "source": []
  }
 ],
 "metadata": {
  "kernelspec": {
   "display_name": "Python 3 (ipykernel)",
   "language": "python",
   "name": "python3"
  },
  "language_info": {
   "codemirror_mode": {
    "name": "ipython",
    "version": 3
   },
   "file_extension": ".py",
   "mimetype": "text/x-python",
   "name": "python",
   "nbconvert_exporter": "python",
   "pygments_lexer": "ipython3",
   "version": "3.11.2"
  }
 },
 "nbformat": 4,
 "nbformat_minor": 5
}
