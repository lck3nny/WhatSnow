{
 "cells": [
  {
   "cell_type": "code",
   "execution_count": 1,
   "id": "0c534538",
   "metadata": {},
   "outputs": [],
   "source": [
    "# https://docs.bonsai.io/article/102-python\n",
    "import io, sys, os, base64, re, logging\n",
    "import json\n",
    "import datetime\n",
    "\n",
    "from elasticsearch import Elasticsearch\n",
    "from elasticsearch.client import IndicesClient\n",
    "from elasticsearch.helpers import streaming_bulk\n",
    "\n",
    "import firebase_admin\n",
    "from firebase_admin import credentials, firestore"
   ]
  },
  {
   "cell_type": "code",
   "execution_count": 3,
   "id": "a8d5f190",
   "metadata": {},
   "outputs": [],
   "source": [
    "f = open(sys.path[0] + '/../application/config/bonsai_config.json')\n",
    "es_config = json.load(f)\n",
    "f.close()"
   ]
  },
  {
   "cell_type": "code",
   "execution_count": 5,
   "id": "38c0bf03",
   "metadata": {},
   "outputs": [],
   "source": [
    "es_endpoint = es_config['url']\n",
    "es_user = es_config['key']\n",
    "es_password = es_config['secret']"
   ]
  },
  {
   "cell_type": "code",
   "execution_count": 6,
   "id": "13018788",
   "metadata": {},
   "outputs": [],
   "source": [
    "es_client = Elasticsearch([es_endpoint], basic_auth=(es_user, es_password))"
   ]
  },
  {
   "cell_type": "code",
   "execution_count": null,
   "id": "101b6dce",
   "metadata": {},
   "outputs": [],
   "source": []
  }
 ],
 "metadata": {
  "kernelspec": {
   "display_name": "Python 3 (ipykernel)",
   "language": "python",
   "name": "python3"
  },
  "language_info": {
   "codemirror_mode": {
    "name": "ipython",
    "version": 3
   },
   "file_extension": ".py",
   "mimetype": "text/x-python",
   "name": "python",
   "nbconvert_exporter": "python",
   "pygments_lexer": "ipython3",
   "version": "3.11.2"
  }
 },
 "nbformat": 4,
 "nbformat_minor": 5
}
