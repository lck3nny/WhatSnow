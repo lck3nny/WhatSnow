{
 "cells": [
  {
   "cell_type": "code",
   "execution_count": 6,
   "id": "c8b57c95",
   "metadata": {},
   "outputs": [],
   "source": [
    "import json\n",
    "import pymysql\n",
    "import os"
   ]
  },
  {
   "cell_type": "code",
   "execution_count": 7,
   "id": "3436245e",
   "metadata": {},
   "outputs": [],
   "source": [
    "# Database Setup\n",
    "# --------------------------------------------------\n",
    "def setupdb():\n",
    "    f = open('../application/config/localdb_config.json')\n",
    "    dbconfig = json.loads(f.read())\n",
    "    db = pymysql.connect(host=dbconfig['localhost'], user=dbconfig['username'], password=dbconfig['password'], database=dbconfig['database'])\n",
    "    f.close()\n",
    "    return db"
   ]
  },
  {
   "cell_type": "markdown",
   "id": "7290fe14",
   "metadata": {},
   "source": [
    "## User Class\n",
    "---"
   ]
  },
  {
   "cell_type": "code",
   "execution_count": 8,
   "id": "9c863966",
   "metadata": {},
   "outputs": [],
   "source": [
    "class User:\n",
    "    def __init__(self, userid, fname, lname, email, ski=0, snowboard=0, stance=None, permissions=[], region=None, photo=None):\n",
    "        self.id = userid\n",
    "        self.fname = fname\n",
    "        self.lname = lname\n",
    "        self.email = email\n",
    "        self.ski = ski\n",
    "        self.snowboard = snowboard\n",
    "        self.stance = stance\n",
    "        self.permissions = permissions\n",
    "        self.region = region\n",
    "        self.photo = photo\n",
    "\n",
    "\n",
    "    # --------------------------------------------------\n",
    "    # Create New User                    F U N C T I O N\n",
    "    # --------------------------------------------------\n",
    "    def save(self):\n",
    "        db = setupdb()\n",
    "        cursor = db.cursor()\n",
    "        try:\n",
    "            sql = \"\"\"insert into 'Users' (user_id, fname, lname, email, ski, snowboard, stance, region, permissions, created, updated, photo)\n",
    "                values ({}, {}, {}, {}, {}, {}, {}, {}))\n",
    "            \"\"\".format(self.id, self.fname, self.lname, self.email, \n",
    "                       self.ski, self.snowboard, self.stance, self.region, '~'.join(self.permissions), \n",
    "                       datetime.now(pytz.timezone('Canada/Pacific')), datetime.now(pytz.timezone('Canada/Pacific')),\n",
    "                       self.photo)\n",
    "            cursor.execute(sql)\n",
    "            db.commit()\n",
    "            #self.id = cursor.execute(\"SELECT last_insert_rowid() FROM songs\").fetchone()[0]\n",
    "             \n",
    "        except Exception as e:\n",
    "            print(\"Could not create new user:\\n{}\".format(e))   \n",
    "            return False\n",
    "\n",
    "        print(\"Created New User:\\n{} {} ~ {}\\nPermissions: {}\\nSki: {} Snowboard: ({})\\n{}Region: {}\"\n",
    "                     .format(self.fname, self.lname, self.email, ', '.join(self.permissions), self.ski, self.snowboard, self.stance, self.region))\n",
    "\n",
    "        return True\n",
    "    \n",
    "\n",
    "    # ToDo...\n",
    "    # Return User object\n",
    "    # --------------------------------------------------\n",
    "    # Get User                           F U N C T I O N\n",
    "    # --------------------------------------------------\n",
    "    @classmethod\n",
    "    def get(cls, id=None, email=None):\n",
    "\n",
    "        db = setupdb()\n",
    "        cursor = db.cursor()\n",
    "\n",
    "        # Get user by ID\n",
    "        if id:\n",
    "            try:\n",
    "                print(\"Getting user from ID: {}\".format(id))\n",
    "                sql = \"\"\"SELECT * FROM Users WHERE user_id = '{}'\"\"\".format(id)\n",
    "                cursor.execute(sql)\n",
    "                result = cursor.fetchone()\n",
    "                print(\"Result: {}\".format(result))\n",
    "            \n",
    "            except Exception as e:\n",
    "                print(e)\n",
    "\n",
    "        # Get user by email\n",
    "        elif email:\n",
    "            try:\n",
    "                print(\"Getting user from EMAIL: {}\".format(email))\n",
    "                sql = \"\"\"SELECT * FROM Users WHERE email = '{}'\"\"\".format(email)\n",
    "                cursor.execute(sql)\n",
    "                result = cursor.fetchone()\n",
    "                print(\"Result: {}\".format(result))\n",
    "\n",
    "            except Exception as e:\n",
    "                print(e)\n",
    "\n",
    "        if not result:\n",
    "            print(\"EMPTY\")\n",
    "            return None\n",
    "                \n",
    "        # Map DB Result to User Object\n",
    "        user = User(\n",
    "            userid=result[0], \n",
    "            fname=result[1], \n",
    "            lname=result[2], \n",
    "            email=result[3], \n",
    "            ski=result[4], \n",
    "            snowboard=result[5],\n",
    "            stance=result[6],\n",
    "            region=result[7],\n",
    "            permissions=result[8],\n",
    "            photo=result[9],\n",
    "        )\n",
    "        \n",
    "        if user.permissions:\n",
    "            user.permissions = user.permissions.split('~')\n",
    "\n",
    "        return user"
   ]
  },
  {
   "cell_type": "markdown",
   "id": "4cdc87ba",
   "metadata": {},
   "source": [
    "## User Tests\n",
    "---"
   ]
  },
  {
   "cell_type": "code",
   "execution_count": 33,
   "id": "989e37c2",
   "metadata": {},
   "outputs": [
    {
     "name": "stdout",
     "output_type": "stream",
     "text": [
      "Getting user from EMAIL: lck3nny@gmail.com\n",
      "Result: ('GOn89KKWumTycl3uJ3lZwProK5j1', 'Liam', 'Kenny', 'lck3nny@gmail.com', None, None, None, None, None, datetime.datetime(2023, 12, 19, 16, 17, 46), datetime.datetime(2023, 12, 19, 16, 17, 46), None)\n"
     ]
    }
   ],
   "source": [
    "liam = User.get(email='lck3nny@gmail.com')"
   ]
  },
  {
   "cell_type": "code",
   "execution_count": 34,
   "id": "ef0fb4b4",
   "metadata": {},
   "outputs": [
    {
     "data": {
      "text/plain": [
       "{'id': 'GOn89KKWumTycl3uJ3lZwProK5j1',\n",
       " 'fname': 'Liam',\n",
       " 'lname': 'Kenny',\n",
       " 'email': 'lck3nny@gmail.com',\n",
       " 'ski': None,\n",
       " 'snowboard': None,\n",
       " 'stance': None,\n",
       " 'permissions': None,\n",
       " 'region': None,\n",
       " 'photo': datetime.datetime(2023, 12, 19, 16, 17, 46)}"
      ]
     },
     "execution_count": 34,
     "metadata": {},
     "output_type": "execute_result"
    }
   ],
   "source": [
    "liam.__dict__"
   ]
  },
  {
   "cell_type": "code",
   "execution_count": null,
   "id": "dc0d69b6",
   "metadata": {},
   "outputs": [],
   "source": []
  },
  {
   "cell_type": "code",
   "execution_count": null,
   "id": "e3296591",
   "metadata": {},
   "outputs": [],
   "source": []
  },
  {
   "cell_type": "code",
   "execution_count": null,
   "id": "7eff99cf",
   "metadata": {},
   "outputs": [],
   "source": []
  },
  {
   "cell_type": "code",
   "execution_count": null,
   "id": "0e220d5d",
   "metadata": {},
   "outputs": [],
   "source": []
  },
  {
   "cell_type": "code",
   "execution_count": null,
   "id": "e1cb2b4d",
   "metadata": {},
   "outputs": [],
   "source": []
  },
  {
   "cell_type": "code",
   "execution_count": null,
   "id": "bf7332f2",
   "metadata": {},
   "outputs": [],
   "source": []
  },
  {
   "cell_type": "code",
   "execution_count": null,
   "id": "59cf7145",
   "metadata": {},
   "outputs": [],
   "source": []
  },
  {
   "cell_type": "code",
   "execution_count": null,
   "id": "6631b2f3",
   "metadata": {},
   "outputs": [],
   "source": []
  },
  {
   "cell_type": "code",
   "execution_count": 29,
   "id": "28f1d20b",
   "metadata": {},
   "outputs": [],
   "source": [
    "import sys\n",
    "import os.path\n",
    "import logging\n",
    "import json\n",
    "import pytz\n",
    "from datetime import datetime\n",
    "from operator import itemgetter\n",
    "from difflib import SequenceMatcher\n",
    "from elasticsearch import Elasticsearch\n",
    "from elasticsearch.client import IndicesClient\n"
   ]
  },
  {
   "cell_type": "code",
   "execution_count": 30,
   "id": "06aee742",
   "metadata": {},
   "outputs": [],
   "source": [
    "# Connect ElasticSearch credentials\n",
    "f = open(sys.path[0] + '/../application/config/bonsai_config.json')\n",
    "es_config = json.load(f)"
   ]
  },
  {
   "cell_type": "code",
   "execution_count": 31,
   "id": "ac6f87d0",
   "metadata": {},
   "outputs": [],
   "source": [
    "es_endpoint = es_config['url']\n",
    "es_user = es_config['key']\n",
    "es_password = es_config['secret']"
   ]
  },
  {
   "cell_type": "code",
   "execution_count": 32,
   "id": "bc261c89",
   "metadata": {},
   "outputs": [],
   "source": [
    "es_client = Elasticsearch([es_endpoint], basic_auth=(es_user, es_password))\n",
    "idx_manager = IndicesClient(es_client)"
   ]
  },
  {
   "cell_type": "code",
   "execution_count": 3,
   "id": "ef88aaea",
   "metadata": {},
   "outputs": [],
   "source": [
    "# Database Setup\n",
    "# --------------------------------------------------\n",
    "def setupdb():\n",
    "    f = open('../application/config/localdb_config.json')\n",
    "    dbconfig = json.loads(f.read())\n",
    "    db = pymysql.connect(host=dbconfig['localhost'], user=dbconfig['username'], password=dbconfig['password'], database=dbconfig['database'])\n",
    "    f.close()\n",
    "    return db"
   ]
  },
  {
   "cell_type": "markdown",
   "id": "879e2a96",
   "metadata": {},
   "source": [
    "## SkiBoard Class\n",
    "---"
   ]
  },
  {
   "cell_type": "code",
   "execution_count": null,
   "id": "b9ad187e",
   "metadata": {},
   "outputs": [],
   "source": []
  },
  {
   "cell_type": "code",
   "execution_count": 184,
   "id": "a6e9d672",
   "metadata": {},
   "outputs": [],
   "source": [
    "class SkiBoard():\n",
    "\n",
    "    # If a SkiBoard has an ID of 0 it has not been saved in the database\n",
    "    def __init__(self, skiboard_id, brand, model, year, category, description=None, stiffness=None, family=None, flex_profile=None, camber_profile=None, camber_details=[], core=None, laminates=[], base=None, sidewall=None, weight=None, youth=False, url=None):\n",
    "        self.id = skiboard_id\n",
    "        self.brand = brand\n",
    "        self.model = model\n",
    "        self.year = year\n",
    "        self.category = category\n",
    "        self.description = description\n",
    "        self.stiffness = stiffness\n",
    "        self.family = family\n",
    "        self.flex_profile = flex_profile\n",
    "        self.camber_profile = camber_profile\n",
    "        self.camber_details = camber_details\n",
    "        self.core = core\n",
    "        self.laminates = laminates\n",
    "        self.base = base\n",
    "        self.sidewall = sidewall\n",
    "        self.weight = weight\n",
    "        self.youth = youth\n",
    "        self.url = url\n",
    "\n",
    "    # --------------------------------------------------\n",
    "    # Is Duplicate                       F U N C T I O N\n",
    "    # --------------------------------------------------\n",
    "    def is_duplicate(self):\n",
    "        db = setupdb()\n",
    "        cursor = db.cursor()\n",
    "\n",
    "        # Search for SkiBoards with \n",
    "        try:\n",
    "            logging.info(\"Checking for Duplicate SkiBoards: {} {} ({})\".format(self.brand, self.model, self.year))\n",
    "            sql = \"\"\"SELECT skiboard_id FROM SkiBoards WHERE brand = '{}' AND model = '{}' AND year = '{}'\"\"\".format(self.brand, self.model, self.year)\n",
    "            cursor.execute(sql)\n",
    "            result = cursor.fetchone()\n",
    "            logging.info(\"Duplicate Found: {}\".format(result))\n",
    "        except Exception as e:\n",
    "            logging.error(e)\n",
    "\n",
    "        if result:\n",
    "            return True\n",
    "\n",
    "        return False\n",
    "\n",
    "    # --------------------------------------------------\n",
    "    # Get Item                           F U N C T I O N\n",
    "    # --------------------------------------------------\n",
    "    @classmethod\n",
    "    def get(cls, id=None, brand=None, model=None, year=None):\n",
    "        \n",
    "        db = setupdb()\n",
    "        cursor = db.cursor()\n",
    "\n",
    "        if id:\n",
    "            try:\n",
    "                logging.info(\"Getting SkiBoard from ID: {}\".format(id))\n",
    "                sql = \"\"\"SELECT * FROM SkiBoards WHERE skiboard_id = '{}'\"\"\".format(id)\n",
    "                cursor.execute(sql)\n",
    "                result = cursor.fetchone()\n",
    "                logging.info(\"Result: {}\".format(result))\n",
    "            except Exception as e:\n",
    "                logging.error(e)\n",
    "                return None\n",
    "            \n",
    "        elif brand and model and year:\n",
    "            try:\n",
    "                logging.info(\"Getting SkiBoard by B-M-Y: {} {} ({})\".format(brand, model, year))\n",
    "                sql = \"\"\"SELECT * FROM SkiBoards WHERE brand = '{}' AND model = '{}' AND year = '{}'\"\"\".format(brand, model, year)\n",
    "                cursor.execute(sql)\n",
    "                result = cursor.fetchone()\n",
    "                logging.info(\"Result: {}\".format(result))\n",
    "            except Exception as e:\n",
    "                logging.error(e)\n",
    "                return None\n",
    "            \n",
    "        if not result:\n",
    "            return None\n",
    "        \n",
    "        # Map DB Result to User Object\n",
    "        skiboard = SkiBoard(\n",
    "            skiboard_id=result[0], \n",
    "            url=result[1], \n",
    "            brand=result[2], \n",
    "            model=result[3], \n",
    "            year=result[4], \n",
    "            category=result[5],\n",
    "            family=result[6],\n",
    "            description=result[7],\n",
    "            stiffness=result[8],\n",
    "            flex_profile=result[9],\n",
    "            camber_profile=result[10],\n",
    "            camber_details=result[11],\n",
    "            core=result[12],\n",
    "            laminates=result[13],\n",
    "            base=result[14],\n",
    "            sidewall=result[15],\n",
    "            weight=result[16],\n",
    "            youth=result[18]\n",
    "        )\n",
    "        \n",
    "        return skiboard\n",
    "\n",
    "\n",
    "    # --------------------------------------------------\n",
    "    # Save SkiBoard                      F U N C T I O N\n",
    "    # --------------------------------------------------\n",
    "    def save(self):\n",
    "        db = setupdb()\n",
    "        cursor = db.cursor()\n",
    "\n",
    "        try:\n",
    "            if self.id:\n",
    "                sql = f\"\"\"REPLACE INTO SkiBoards (skiboard_id, url, brand, model, year, category, family, description, stiffness, flex_profile, camber_profile, camber_details, core, laminates, base, sidewall, weight, youth, updated) \n",
    "                values(\n",
    "                {str(self.id)}\n",
    "                {str(self.brand)}, \n",
    "                {str(self.model)}, \n",
    "                {int(self.year)}, \n",
    "                {str(self.category)}, \n",
    "                {str(self.family)}, \n",
    "                {str(self.description)}, \n",
    "                {float(self.stiffness)}, \n",
    "                {str(self.flex_profile)}, \n",
    "                {str(self.camber_profile)}, \n",
    "                {'~'.join(str(i) for i in self.camber_details)}, \n",
    "                {str(self.core)}, \n",
    "                {'~'.join(str(i) for i in self.laminates)}, \n",
    "                {str(self.base)}, \n",
    "                {str(self.sidewall)}, \n",
    "                {float(self.weight)}, \n",
    "                {bool(self.youth)}, \n",
    "                {datetime.now(pytz.timezone('Canada/Pacific'))} )\"\"\"\n",
    "                print(\"Updating...\")\n",
    "            else:\n",
    "                sql = f\"\"\"INSERT INTO SkiBoards (url, brand, model, year, category, family, description, stiffness, flex_profile, camber_profile, camber_details, core, laminates, base, sidewall, weight, youth, updated) \n",
    "                values(\n",
    "                {str(self.url)}, \n",
    "                {str(self.brand)}, \n",
    "                {str(self.model)}, \n",
    "                {int(self.year)}, \n",
    "                {str(self.category)}, \n",
    "                {str(self.family)}, \n",
    "                {str(self.description)}, \n",
    "                {float(self.stiffness)}, \n",
    "                {str(self.flex_profile)}, \n",
    "                {str(self.camber_profile)}, \n",
    "                {'~'.join(str(i) for i in self.camber_details)}, \n",
    "                {str(self.core)}, \n",
    "                {'~'.join(str(i) for i in self.laminates)}, \n",
    "                {str(self.base)}, \n",
    "                {str(self.sidewall)}, \n",
    "                {float(self.weight)}, \n",
    "                {bool(self.youth)}, \n",
    "                {datetime.now(pytz.timezone('Canada/Pacific'))} )\"\"\"\n",
    "                \n",
    "                \n",
    "                print(\"Inserting...\")\n",
    "                \n",
    "            \n",
    "            print(sql)\n",
    "            cursor.execute(sql)\n",
    "            db.commit()\n",
    "             \n",
    "        except Exception as e:\n",
    "            logging.error(\"Could not create new SkiBoard:\\n{}\".format(e))\n",
    "            print(\"ERROR: {}\".format(e))\n",
    "            return False\n",
    "\n",
    "        logging.info(\"Saved SkiBoard:\\nBrand: {}\\nModel: {} Year: ({})\".format(self.brand, self.model, self.year))\n",
    "\n",
    "        # ToDo...\n",
    "        # Update ElasticSearch\n",
    "        successes = 0\n",
    "        logging.info(\"Uploading SkiBoard to ElasticSearch\")\n",
    "        es.update(\n",
    "            id=self.id,\n",
    "            index='SkiBoards',\n",
    "            document=self.__dict__\n",
    "        )   \n",
    "\n",
    "        return True\n",
    "    \n",
    "    # --------------------------------------------------\n",
    "    # Search Database                    F U N C T I O N\n",
    "    # -------------------------------------------------- \n",
    "    @classmethod\n",
    "    def search_db(cls, query_string):\n",
    "        \n",
    "        db = setupdb()\n",
    "        cursor = db.cursor()\n",
    "\n",
    "        try:\n",
    "            logging.info(\"Searching for SkiBoard: {}\".format(query_string))\n",
    "            sql = \"SELECT * FROM SkiBoards WHERE MATCH(brand, model, year) AGAINST('{}' IN NATURAL LANGUAGE MODE)\".format(query_string)\n",
    "            cursor.execute(sql)\n",
    "            results = cursor.fetchall()\n",
    "            logging.info(\"Results: {}\".format(results))\n",
    "        except Exception as e:\n",
    "            logging.error(e)\n",
    "            return None\n",
    "\n",
    "        return results\n",
    "    \n"
   ]
  },
  {
   "cell_type": "code",
   "execution_count": 185,
   "id": "70065520",
   "metadata": {},
   "outputs": [],
   "source": [
    "burton_custom = SkiBoard(\n",
    "    skiboard_id=0, \n",
    "    brand='Burton', \n",
    "    model='Custom', \n",
    "    year=2020, \n",
    "    category='Snowboard', \n",
    "    description='''The most trusted board ever, backed by a cult following as snowboarding's one-answer to all terrain. Since its humble beginnings, innovation has defined the Burton Custom series and set it apart as the most popular, versatile, and mimicked board in snowboarding. Since 1996, this icon has reigned supreme and constantly evolved with a proven formula that combines time-honored design with envelope-pushing ingredients to create a lightweight, poppy, and highly versatile board. Offered in two versions, the precision and stability of the Custom camber is the top choice for many pro riders, while the Custom Flying V™ combines camber’s power with the relaxed float of rocker for the best of both worlds.''',\n",
    "    stiffness=6, \n",
    "    family=None, \n",
    "    flex_profile='Twin', \n",
    "    camber_profile='Full Camber', \n",
    "    camber_details=[], \n",
    "    core='Super Fly II™ 700G', \n",
    "    laminates=['45° Carbon Highlights'], \n",
    "    base='Sintered WFO Base',\n",
    "    sidewall=None, \n",
    "    weight=None,\n",
    "    youth=False, \n",
    "    url=None)"
   ]
  },
  {
   "cell_type": "code",
   "execution_count": 186,
   "id": "5fcb2f01",
   "metadata": {},
   "outputs": [
    {
     "name": "stdout",
     "output_type": "stream",
     "text": [
      "<class 'int'>\n"
     ]
    }
   ],
   "source": [
    "print(type(burton_custom.year))"
   ]
  },
  {
   "cell_type": "code",
   "execution_count": 187,
   "id": "3b254992",
   "metadata": {},
   "outputs": [
    {
     "name": "stderr",
     "output_type": "stream",
     "text": [
      "ERROR:root:Could not create new SkiBoard:\n",
      "float() argument must be a string or a real number, not 'NoneType'\n"
     ]
    },
    {
     "name": "stdout",
     "output_type": "stream",
     "text": [
      "ERROR: float() argument must be a string or a real number, not 'NoneType'\n"
     ]
    },
    {
     "data": {
      "text/plain": [
       "False"
      ]
     },
     "execution_count": 187,
     "metadata": {},
     "output_type": "execute_result"
    }
   ],
   "source": [
    "burton_custom.save()"
   ]
  },
  {
   "cell_type": "code",
   "execution_count": 95,
   "id": "ac171630",
   "metadata": {},
   "outputs": [
    {
     "name": "stderr",
     "output_type": "stream",
     "text": [
      "ERROR:root:(1191, \"Can't find FULLTEXT index matching the column list\")\n"
     ]
    },
    {
     "name": "stdout",
     "output_type": "stream",
     "text": [
      "No Results\n"
     ]
    }
   ],
   "source": [
    "results = SkiBoard.search_db(\"Burton\")\n",
    "if results:\n",
    "    print(results)\n",
    "else:\n",
    "    print(\"No Results\")"
   ]
  },
  {
   "cell_type": "code",
   "execution_count": null,
   "id": "615eafde",
   "metadata": {},
   "outputs": [],
   "source": []
  },
  {
   "cell_type": "code",
   "execution_count": null,
   "id": "2fbb1df9",
   "metadata": {},
   "outputs": [],
   "source": []
  },
  {
   "cell_type": "code",
   "execution_count": null,
   "id": "0c660058",
   "metadata": {},
   "outputs": [],
   "source": []
  },
  {
   "cell_type": "code",
   "execution_count": 117,
   "id": "28302ce2",
   "metadata": {},
   "outputs": [
    {
     "name": "stdout",
     "output_type": "stream",
     "text": [
      "N\n"
     ]
    }
   ],
   "source": [
    "n = None\n",
    "print(str(n))"
   ]
  },
  {
   "cell_type": "code",
   "execution_count": null,
   "id": "f22241b0",
   "metadata": {},
   "outputs": [],
   "source": []
  }
 ],
 "metadata": {
  "kernelspec": {
   "display_name": "Python 3 (ipykernel)",
   "language": "python",
   "name": "python3"
  },
  "language_info": {
   "codemirror_mode": {
    "name": "ipython",
    "version": 3
   },
   "file_extension": ".py",
   "mimetype": "text/x-python",
   "name": "python",
   "nbconvert_exporter": "python",
   "pygments_lexer": "ipython3",
   "version": "3.11.2"
  }
 },
 "nbformat": 4,
 "nbformat_minor": 5
}
